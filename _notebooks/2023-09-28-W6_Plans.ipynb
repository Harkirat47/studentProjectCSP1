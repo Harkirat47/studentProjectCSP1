{
 "cells": [
  {
   "cell_type": "markdown",
   "metadata": {},
   "source": [
    "---\n",
    "toc: true\n",
    "comments: true\n",
    "layout: post\n",
    "title: Week 6 Plans\n",
    "type: plans\n",
    "courses: { csp: {week: 6} }\n",
    "---"
   ]
  },
  {
   "cell_type": "markdown",
   "metadata": {},
   "source": [
    "### Todo\n",
    "\n",
    "- [x] Datatypes\n",
    "- [x] DOM\n",
    "- [x] JS\n",
    "- [x] Debug I\n",
    "- [x] Debug II\n",
    "- [x] Debug III"
   ]
  }
 ],
 "metadata": {
  "language_info": {
   "name": "python"
  },
  "orig_nbformat": 4
 },
 "nbformat": 4,
 "nbformat_minor": 2
}
