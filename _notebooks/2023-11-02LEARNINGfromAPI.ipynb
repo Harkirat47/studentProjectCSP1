{
 "cells": [
  {
   "cell_type": "code",
   "execution_count": null,
   "metadata": {
    "vscode": {
     "languageId": "plaintext"
    }
   },
   "outputs": [],
   "source": [
    "---\n",
    "toc: True\n",
    "comments: True\n",
    "layout: post\n",
    "title: Learning from past mistakes\n",
    "type: tangibles\n",
    "courses: {'csp': {'week': 11}}\n",
    "---"
   ]
  },
  {
   "cell_type": "markdown",
   "metadata": {},
   "source": [
    "# MISTAKES TO AVOID AND FIX IN THE API"
   ]
  },
  {
   "cell_type": "markdown",
   "metadata": {},
   "source": [
    "### Delete the squlite table to reset meta data on nighthawk coders\n",
    "\n",
    "this is because we ran into read and write errors quite frequently when trying to restart our server.\n",
    "SQlite regenerates when rerun\n",
    "\n"
   ]
  },
  {
   "cell_type": "markdown",
   "metadata": {},
   "source": [
    "### PYTHON MAIN.PY\n",
    "\n",
    "Most releiable method to run, more than docker in my opinion\n"
   ]
  },
  {
   "cell_type": "markdown",
   "metadata": {},
   "source": [
    "### CORS, disable cors for pull requests, I do not have a long term fix yet"
   ]
  },
  {
   "cell_type": "markdown",
   "metadata": {},
   "source": [
    "### Data best stored in a dictionary, \n",
    "\n",
    "code to always use to get data"
   ]
  },
  {
   "cell_type": "markdown",
   "metadata": {},
   "source": [
    " fetch(apiUrl)\n",
    "            .then(response => response.json()) // Parse the JSON response\n",
    "            .then(data => {\n",
    "                // Organize the data into a dictionary\n",
    "                const organizedData = {\n",
    "                    Cookie_api: {\n",
    "                        url_prefix: '/api/Cookie',\n",
    "                        CookieAPI: {\n",
    "                            get: {\n",
    "                                description: 'Retrieve all cookies from the database',\n",
    "                                url: '/api/Cookie',\n",
    "                                method: 'GET',\n",
    "                                data: data, // Include the retrieved data here\n",
    "                            },\n",
    "                        },\n",
    "                    },\n",
    "                    CookieListAPI: {\n",
    "                        CookieListAPI: {\n",
    "                            get: {\n",
    "                                description: 'Retrieve all cookies from the database',\n",
    "                                url: '/api/Cookie',\n",
    "                                method: 'GET',\n",
    "                                data: data, // Include the retrieved data here\n",
    "                            },\n",
    "                        },\n",
    "                    },\n",
    "                };\n",
    "\n",
    "                // Now, you have the organized data in the \"organizedData\" dictionary\n",
    "                Data = organizedData.Cookie_api.CookieAPI.get.data; //data[id].Cookie_name, image whatever u may need,"
   ]
  },
  {
   "cell_type": "markdown",
   "metadata": {},
   "source": [
    "# always use a db system"
   ]
  }
 ],
 "metadata": {
  "language_info": {
   "name": "python"
  }
 },
 "nbformat": 4,
 "nbformat_minor": 2
}
