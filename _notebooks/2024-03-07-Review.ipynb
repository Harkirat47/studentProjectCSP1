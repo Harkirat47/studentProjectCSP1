{
 "cells": [
  {
   "cell_type": "markdown",
   "metadata": {},
   "source": [
    "---\n",
    "toc: true\n",
    "comments: true\n",
    "layout: post\n",
    "title: Ind Review\n",
    "description: Blog for CSP week 19\n",
    "courses: { csp: {week: 25} }\n",
    "type: hacks\n",
    "---"
   ]
  },
  {
   "cell_type": "markdown",
   "metadata": {},
   "source": [
    "# Key Commits\n",
    "\n",
    "    https://github.com/Harkirat47/FrontEndCPTSCSS/commit/b60a54da69f641434c98c0704eb276216eb0bf70\n",
    "\n",
    "    https://github.com/Harkirat47/FrontEndCPTSCSS/commit/95ccf9fad1c427e4c67624c9f9252fd51d2cdfd8\n",
    "\n",
    "    https://github.com/Harkirat47/FrontEndCPTSCSS/commit/a048e71eeae106e4dcf75d7530e974ed4f25a7f6\n",
    "\n",
    "# Merges from other branches for testing \n",
    "\n",
    "    https://github.com/Harkirat47/FrontEndCPTSCSS/commit/ac28bb088ef5fb52c7fc1c346039cbfb7e2fd63e\n",
    "\n",
    "\n"
   ]
  },
  {
   "cell_type": "markdown",
   "metadata": {
    "vscode": {
     "languageId": "plaintext"
    }
   },
   "source": [
    "# this week, I focused mainly on planning. I contributed to help Ian Write the blog by creating the planning board and also by adding disigns as to where the machine learning goes. I also did some debuging."
   ]
  },
  {
   "cell_type": "markdown",
   "metadata": {},
   "source": [
    "## Step 1\n",
    "\n",
    "### Make plans, With the help of adding more and more baxes to the jamboard on My frontend, We have abonafide plan with issues and abilities to review\n",
    "\n",
    "# https://github.com/users/Harkirat47/projects/1/views/1\n",
    "\n",
    "## Step 2 \n",
    "\n",
    "### find the dataset for the machine learning \n",
    "\n",
    "https://www.kaggle.com/code/nethanael/mla2-phidalgo-proyecto-final-pt1\n",
    "\n",
    "https://www.kaggle.com/code/zyuniversal/starter-google-landmarks-dataset-1c58081d-4\n",
    "\n",
    "https://www.kaggle.com/datasets/google/google-landmarks-dataset/data"
   ]
  }
 ],
 "metadata": {
  "language_info": {
   "name": "python"
  }
 },
 "nbformat": 4,
 "nbformat_minor": 2
}
