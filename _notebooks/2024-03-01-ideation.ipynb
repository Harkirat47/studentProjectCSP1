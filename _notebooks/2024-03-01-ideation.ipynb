{
 "cells": [
  {
   "cell_type": "markdown",
   "metadata": {},
   "source": [
    "---\n",
    "toc: true\n",
    "comments: true\n",
    "layout: notebook\n",
    "title: Debuging \n",
    "description: EEEEEEEEEEEEEEEEEEEEEEEEEEEEEE\n",
    "courses: { csp: {week: 25} }\n",
    "type: hacks\n",
    "---"
   ]
  },
  {
   "cell_type": "code",
   "execution_count": null,
   "metadata": {
    "vscode": {
     "languageId": "plaintext"
    }
   },
   "outputs": [],
   "source": [
    "/home/withereddagger/vscode/studentProjectCSP1/_notebooks/Pics/2024-03-05-MachineLearning.ipynb - studentProjectCSP1 [WSL] - Visual Studio Code 3_6_2024 11_36_20 AM.png\n"
   ]
  },
  {
   "cell_type": "markdown",
   "metadata": {},
   "source": [
    "![image](/home/withereddagger/vscode/studentProjectCSP1/_notebooks/Pics/2024-03-05-MachineLearning.ipynb - studentProjectCSP1 [WSL] - Visual Studio Code 3_6_2024 11_36_20 AM.png)"
   ]
  }
 ],
 "metadata": {
  "language_info": {
   "name": "python"
  }
 },
 "nbformat": 4,
 "nbformat_minor": 2
}
