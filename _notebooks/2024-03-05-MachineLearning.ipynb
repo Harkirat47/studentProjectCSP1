{
 "cells": [
  {
   "cell_type": "markdown",
   "metadata": {},
   "source": [
    "---\n",
    "toc: true\n",
    "comments: true\n",
    "layout: notebook\n",
    "title: Debugger Real\n",
    "description: EEEEEEEEEEEEEEEEEEEEEEEEEEEEEE\n",
    "courses: { csp: {week: 25} }\n",
    "type: hacks\n",
    "---"
   ]
  },
  {
   "cell_type": "markdown",
   "metadata": {},
   "source": [
    "![image](/_notebooks/Pics/1.png)\n",
    "![image](/_notebooks/Pics/2.png)\n",
    "![image](/_notebooks/Pics/3.png)\n",
    "![image](/_notebooks/Pics/4.png)\n",
    "![image](/_notebooks/Pics/5.png)\n",
    "![image](/_notebooks/Pics/6.png)\n",
    "![image](/_notebooks/Pics/7.png)\n",
    "![image](/_notebooks/Pics/8.png)\n",
    "![image](/_notebooks/Pics/9.png)\n",
    "![image](/_notebooks/Pics/10.png)\n",
    "![image](/_notebooks/Pics/11.png)\n",
    "![image](/_notebooks/Pics/12.png)\n",
    "![image](/_notebooks/Pics/13.png)\n",
    "![image](/_notebooks/Pics/14.png)\n",
    "![image](/_notebooks/Pics/15.png)"
   ]
  }
 ],
 "metadata": {
  "language_info": {
   "name": "python"
  }
 },
 "nbformat": 4,
 "nbformat_minor": 2
}
