{
 "cells": [
  {
   "cell_type": "markdown",
   "metadata": {},
   "source": [
    "---\n",
    "toc: true\n",
    "comments: true\n",
    "layout: post\n",
    "title: MCQ\n",
    "description: Blog for CSP week 19\n",
    "courses: { csp: {week: 26} }\n",
    "type: hacks\n",
    "---"
   ]
  },
  {
   "cell_type": "markdown",
   "metadata": {},
   "source": [
    "<img src=\"../../../images/MCQ1.png\" alt=\"image13\">\n",
    "This is something like a variable replacement, under the circumstances, the seccond option was wrong because the left and right in the concat should have been switched as you dont go \"backwords\" in this algorithim defined. the winning answer is correct due to the fact that instead of creating to variables to concat, it sets newstr as one of them, and simplly inputs the value of the seccond variable in the other.\n",
    "<img src=\"../../../images/MCQ2.png\" alt=\"image13\">\n",
    "I think I rushed on this one, but its wrong because the seccond choice makes no sense...\n",
    "<img src=\"../../../images/MCQ3.png\" alt=\"image13\">\n",
    "The algorithm is made to do a min max stack meaning the last item is the first item in the seccond one, that ois only the case with the correct answer. A seems apatizing but in the end, its adding the last to the end, not the correct answer.\n",
    "<img src=\"../../../images/MCQ4.png\" alt=\"image13\">\n",
    "And and or gate must be switched\n",
    "<img src=\"../../../images/MCQ5.png\" alt=\"image13\">\n",
    "1 still works because we dont care about the zero rating as they dont really matter in the queston\n",
    "<img src=\"../../../images/MCQ6.png\" alt=\"image13\">\n",
    "The if inside the else does not make sense as it would never run as the first if would run if n was greater than 100,so the if in the else would have no reason to ever run.\n",
    "<img src=\"../../../images/MCQ7.png\" alt=\"image13\">\n",
    "<img src=\"../../../images/MCQ8.png\" alt=\"image13\">\n",
    "\n",
    "Its the y value + len not the x value as in COMMON MATH, the y intercept is added to the Y value, complete idiocy."
   ]
  }
 ],
 "metadata": {
  "language_info": {
   "name": "python"
  }
 },
 "nbformat": 4,
 "nbformat_minor": 2
}
