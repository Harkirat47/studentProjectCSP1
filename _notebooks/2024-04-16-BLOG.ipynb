{
 "cells": [
  {
   "cell_type": "markdown",
   "metadata": {},
   "source": [
    "---\n",
    "toc: true\n",
    "comments: true\n",
    "layout: post\n",
    "title: Data Structures Writeup\n",
    "description: Blog for CSP week 29\n",
    "courses: { csp: {week: 29} }\n",
    "type: hacks\n",
    "---"
   ]
  },
  {
   "cell_type": "markdown",
   "metadata": {},
   "source": [
    "From the MiraCosta CS113 course catalog\n",
    "Students explore the software development process by developing effective solutions using industry-standard tools. Topics include searching, sorting, hashing, algorithm analysis, object-oriented design, collections, lists, stacks, queues, trees, sets, dictionaries, and graphs.\n",
    "\n",
    "Map the below elements from MiraCosta course description using your CPT project.\n",
    "This must be unique to your portion of the integrated project.\n",
    "This is a pre-requisite prior to answering the college board questions that have been posted to AP Classroom.\n",
    "Collections\n",
    "Blog Python Model code and SQLite Database.\n",
    "\n",
    "From VSCode using SQLite3 Editor, show your unique collection/table in database, display rows and columns in the table of the SQLite database.\n",
    "From VSCode model, show your unique code that was created to initialize table and create test data.\n",
    "Lists and Dictionaries\n",
    "Blog Python API code and use of List and Dictionaries.\n",
    "\n",
    "In VSCode using Debugger, show a list as extracted from database as Python objects.\n",
    "In VSCode use Debugger and list, show two distinct example examples of dictionaries, show Keys/Values using debugger.\n",
    "APIs and JSON\n",
    "Blog Python API code and use of Postman to request and respond with JSON.\n",
    "\n",
    "In VSCode, show Python API code definition for request and response using GET, POST, UPDATE methods. Discuss algorithmic condition used to direct request to appropriate Python method based on request method.\n",
    "In VSCode, show algorithmic conditions used to validate data on a POST condition.\n",
    "In Postman, show URL request and Body requirements for GET, POST, and UPDATE methods.\n",
    "In Postman, show the JSON response data for 200 success conditions on GET, POST, and UPDATE methods.\n",
    "In Postman, show the JSON response for error for 400 when missing body on a POST request.\n",
    "In Postman, show the JSON response for error for 404 when providing an unknown user ID to a UPDATE request.\n",
    "Frontend\n",
    "Blog JavaScript API fetch code and formatting code to display JSON.\n",
    "\n",
    "In Chrome inspect, show response of JSON objects from fetch of GET, POST, and UPDATE methods.\n",
    "In the Chrome browser, show a demo (GET) of obtaining an Array of JSON objects that are formatted into the browsers screen.\n",
    "In JavaScript code, describe fetch and method that obtained the Array of JSON objects.\n",
    "In JavaScript code, show code that performs iteration and formatting of data into HTML.\n",
    "In the Chrome browser, show a demo (POST or UPDATE) gathering and sending input and receiving a response that show update. Repeat this demo showing both success and failure.\n",
    "In JavaScript code, show and describe code that handles success. Describe how code shows success to the user in the Chrome Browser screen.\n",
    "In JavaScript code, show and describe code that handles failure. Describe how the code shows failure to the user in the Chrome Browser screen.\n",
    "Optional/Extra, Algorithm Analysis\n",
    "In the ML projects, there is a great deal of algorithm analysis. Think about preparing data and predictions.\n",
    "\n",
    "Show algorithms and preparation of data for analysis. This includes cleaning, encoding, and one-hot encoding.\n",
    "Show algorithms and preparation for predictions.\n",
    "Discuss concepts and understanding of Linear Regression algorithms.\n",
    "Discuss concepts and understanding of Decision Tree analysis algorithms."
   ]
  },
  {
   "cell_type": "markdown",
   "metadata": {},
   "source": [
    "# SQLite Database Table Creation:\n",
    "Using VSCode and SQLite3 Editor, create a table in your SQLite database to store your collection data.\n",
    "Define the columns in your table to represent the attributes of the collection items.\n",
    "You might create a table named collections with columns like id, name, description, etc."
   ]
  },
  {
   "cell_type": "markdown",
   "metadata": {},
   "source": [
    "# Collections\n",
    "\n",
    "# _________________________________________________________________________________________________________"
   ]
  },
  {
   "cell_type": "markdown",
   "metadata": {},
   "source": [
    "## This is the Database of Images genorated by the model \n",
    "<img src=\"../../../images/IDB.png\" alt=\"image13\">\n",
    "\n",
    "From VSCode model, show your unique code that was created to initialize table and create test data.\n",
    "See Code Below\n",
    "Code initializes three users, two default ones as requested by teacher, and an admin account for personal use."
   ]
  },
  {
   "cell_type": "code",
   "execution_count": null,
   "metadata": {},
   "outputs": [],
   "source": [
    "def initEasyImages():\n",
    "    with app.app_context():\n",
    "        db.create_all()  # Create all tables if they don't exist\n",
    "        # Provide paths and metadata for images\n",
    "        images_data = [\n",
    "            {\"path\": \"https://t3.ftcdn.net/jpg/03/95/29/32/360_F_395293226_A4boRgABAbfXmAmmynQHcjjIIB3MjDCj.jpg\", \"_xCoord\": 250, \"_yCoord\": 250, \"_difficulty\": 0},\n",
    "            {\"path\": \"https://purepng.com/public/uploads/large/purepng.com-super-mariomariosuper-mariovideo-gamefictional-characternintendoshigeru-miyamotomario-franchise-17015286383789a9am.png\", \"_xCoord\": 250, \"_yCoord\": 250, \"_difficulty\": 0}\n",
    "        ]\n",
    "        # Create image instances based on the provided data\n",
    "        images = [Images(**data) for data in images_data]\n",
    "        # Add images to the database\n",
    "        for image in images:\n",
    "            try:\n",
    "                image.create()\n",
    "                print(\"Successfully added entry\")\n",
    "            except:\n",
    "                db.session.remove()\n",
    "                print(\"Error adding image: \", image.imagePath)\n"
   ]
  },
  {
   "cell_type": "markdown",
   "metadata": {},
   "source": [
    "## This is the code for the model with a function called initEasyImage that adds 2 images as Meta data as seen in the picture above."
   ]
  },
  {
   "cell_type": "code",
   "execution_count": null,
   "metadata": {},
   "outputs": [],
   "source": [
    "# Import necessary modules\n",
    "from sqlalchemy import Column, Integer, String, Text, LargeBinary\n",
    "from sqlalchemy.exc import IntegrityError\n",
    "from pathlib import Path\n",
    "from __init__ import app, db  # Import Flask app and SQLAlchemy database instance\n",
    "\n",
    "# Define the Images table in the database\n",
    "class Images(db.Model):\n",
    "    __tablename__ = \"images\"\n",
    "    id = db.Column(db.Integer, primary_key=True)\n",
    "    _xCoord = Column(Integer, nullable=False, default=250)  # Default x-coordinate\n",
    "    _yCoord = Column(Integer, nullable=False, default=250)  # Default y-coordinate\n",
    "    _difficulty = Column(Integer, nullable=False, default=0)  # Default difficulty level\n",
    "    imageData = db.Column(db.Text, nullable=True)\n",
    "    imagePath = db.Column(db.Text, nullable=True)\n",
    "\n",
    "    # Constructor to initialize an image object\n",
    "    def __init__(self, imagePath, imageData=None): \n",
    "        self.imagePath = imagePath\n",
    "        self.imageData = imageData\n",
    "\n",
    "    # Method to represent the image object as a string\n",
    "    def __repr__(self):\n",
    "        return f\"<image(id='{self.id}', imagePath='{self.imagePath}')>\"\n",
    "\n",
    "    # Method to convert image object to a dictionary\n",
    "    def to_dict(self):\n",
    "        return {\"id\": self.id, \"imagePath\": self.imagePath}\n",
    "\n",
    "    # Method to add an image to the database\n",
    "    def create(self):\n",
    "        try:\n",
    "            db.session.add(self)\n",
    "            db.session.commit()\n",
    "            return self\n",
    "        except IntegrityError:\n",
    "            db.session.remove()\n",
    "            return None\n",
    "\n",
    "    # Method to read the details of an image\n",
    "    def read(self):\n",
    "        return {\n",
    "            \"path\": self.imagePath\n",
    "        }\n",
    "\n",
    "    # Method to update the details of an image\n",
    "    def update(self, path=\"\"):\n",
    "        if path:\n",
    "            self.imagePath = path\n",
    "        db.session.commit()\n",
    "        return self\n",
    "\n",
    "    # Method to delete an image from the database\n",
    "    def delete(self):\n",
    "        db.session.delete(self)\n",
    "        db.session.commit()\n",
    "        return None\n",
    "\n",
    "# Function to initialize images in the database\n",
    "def initEasyImages():\n",
    "    with app.app_context():\n",
    "        db.create_all()  # Create all tables if they don't exist\n",
    "        # Provide paths and metadata for images\n",
    "        images_data = [\n",
    "            {\"path\": \"https://t3.ftcdn.net/jpg/03/95/29/32/360_F_395293226_A4boRgABAbfXmAmmynQHcjjIIB3MjDCj.jpg\", \"_xCoord\": 250, \"_yCoord\": 250, \"_difficulty\": 0},\n",
    "            {\"path\": \"https://purepng.com/public/uploads/large/purepng.com-super-mariomariosuper-mariovideo-gamefictional-characternintendoshigeru-miyamotomario-franchise-17015286383789a9am.png\", \"_xCoord\": 250, \"_yCoord\": 250, \"_difficulty\": 0}\n",
    "        ]\n",
    "        # Create image instances based on the provided data\n",
    "        images = [Images(**data) for data in images_data]\n",
    "        # Add images to the database\n",
    "        for image in images:\n",
    "            try:\n",
    "                image.create()\n",
    "                print(\"Successfully added entry\")\n",
    "            except:\n",
    "                db.session.remove()\n",
    "                print(\"Error adding image: \", image.imagePath)\n",
    "\n",
    "# Call the function to initialize images\n",
    "initEasyImages()\n"
   ]
  },
  {
   "cell_type": "markdown",
   "metadata": {},
   "source": [
    "# Lists and Dictionaries\n",
    "Blog Python API code and use of List and Dictionaries.\n",
    "\n",
    "In VSCode using Debugger, show a list as extracted from database as Python objects.\n",
    "GET request is sent to backend to search for all public designs. Backend fetches all public designs into a list in python debugger called design_return (red line). List contains all designs as python objects (red line)."
   ]
  },
  {
   "cell_type": "markdown",
   "metadata": {},
   "source": []
  },
  {
   "cell_type": "markdown",
   "metadata": {},
   "source": [
    "# API + Json"
   ]
  },
  {
   "cell_type": "markdown",
   "metadata": {},
   "source": [
    "Blog Python API code and use of Postman to request and respond with JSON.\n",
    "\n",
    "In VSCode, show Python API code definition for request and response using GET, POST, UPDATE methods. Discuss algorithmic condition used to direct request to appropriate Python method based on request method.\n",
    "Within the code shown above, the API contains several CRUDs, such as a CRUD for modifying users and one for modifying Designs.\n",
    "A resource is then added to the API under the appropriate link.\n",
    "When a request is sent to the link, the appropriate function is called according to the type of request send."
   ]
  },
  {
   "cell_type": "code",
   "execution_count": null,
   "metadata": {},
   "outputs": [],
   "source": [
    "# Add resources outside the class definition\n",
    "images_api.add_resource(ImagesAPI, '/')\n",
    "images_api.add_resource(PostImagesAPI, '/upload')"
   ]
  },
  {
   "cell_type": "markdown",
   "metadata": {},
   "source": [
    "In VSCode, show algorithmic conditions used to validate data on a POST condition.\n",
    "Algorithmic conditions ensure that inputted data is valid. The following two conditions are part of the user creation code. They ensure that the password is secure by ensuring that it is longer than a certain length, and ensure that a Name and password exists."
   ]
  },
  {
   "cell_type": "code",
   "execution_count": null,
   "metadata": {},
   "outputs": [],
   "source": [
    "# Validate name\n",
    "name = body.get('name')\n",
    "if name is None or len(name) < 2:\n",
    "    return {'message': 'Name is missing or is less than 2 characters'}, 400\n",
    "\n",
    "# Validate uid\n",
    "uid = body.get('uid')\n",
    "if uid is None or len(uid) < 2:\n",
    "    return {'message': 'User ID is missing or is less than 2 characters'}, 400"
   ]
  },
  {
   "cell_type": "markdown",
   "metadata": {},
   "source": [
    "In Postman, show URL request and Body requirements for GET, POST, and UPDATE methods.\n",
    "In Postman, show the JSON response data for 200 success conditions on GET, POST, and UPDATE methods."
   ]
  },
  {
   "cell_type": "markdown",
   "metadata": {},
   "source": [
    "## Post\n",
    "<img src=\"../../../images/post.png\" alt=\"image13\" style=\"border: 2px solid black; width: 1000px;\">\n",
    "\n",
    "## PUT\n",
    "<img src=\"../../../images/put.png\" alt=\"image13\" style=\"border: 2px solid black; width: 1000px;\">\n",
    "\n",
    "## GET\n",
    "<img src=\"../../../images/get.png\" alt=\"image13\" style=\"border: 2px solid black; width: 1000px;\">\n",
    "\n",
    "## 404\n",
    "<img src=\"../../../images/posterror.png\" alt=\"image13\" style=\"border: 2px solid black; width: 1000px;\">\n"
   ]
  }
 ],
 "metadata": {
  "language_info": {
   "name": "python"
  }
 },
 "nbformat": 4,
 "nbformat_minor": 2
}
