{
 "cells": [
  {
   "cell_type": "markdown",
   "metadata": {},
   "source": [
    "---\n",
    "toc: true\n",
    "comments: true\n",
    "layout: post\n",
    "title: Data Structures Writeup\n",
    "description: Blog for CSP week 29\n",
    "courses: { csp: {week: 29} }\n",
    "type: hacks\n",
    "---"
   ]
  },
  {
   "cell_type": "markdown",
   "metadata": {},
   "source": [
    "# SQLite Database Table Creation:\n",
    "Using VSCode and SQLite3 Editor, create a table in your SQLite database to store your collection data.\n",
    "Define the columns in your table to represent the attributes of the collection items.\n",
    "You might create a table named collections with columns like id, name, description, etc."
   ]
  },
  {
   "cell_type": "markdown",
   "metadata": {},
   "source": [
    "# Collections\n",
    "\n",
    "# _________________________________________________________________________________________________________"
   ]
  },
  {
   "cell_type": "markdown",
   "metadata": {},
   "source": [
    "## This is the Database of Images genorated by the model \n",
    "<img src=\"../../../images/IDB.png\" alt=\"image13\" style=\"border: 2px solid black; width: 1000px;\">\n",
    "\n",
    "From VSCode model, show your unique code that was created to initialize table and create test data.\n",
    "See Code Below\n",
    "Code initializes three users, two default ones as requested by teacher, and an admin account for personal use."
   ]
  },
  {
   "cell_type": "code",
   "execution_count": null,
   "metadata": {},
   "outputs": [],
   "source": [
    "def initEasyImages():\n",
    "    with app.app_context():\n",
    "        db.create_all()  # Create all tables if they don't exist\n",
    "        # Provide paths and metadata for images\n",
    "        images_data = [\n",
    "            {\"path\": \"link.jpg\", \"_xCoord\": 250, \"_yCoord\": 250, \"_difficulty\": 0},\n",
    "            {\"path\": \"link.png\", \"_xCoord\": 250, \"_yCoord\": 250, \"_difficulty\": 0}\n",
    "        ]\n",
    "        # Create image instances based on the provided data\n",
    "        images = [Images(**data) for data in images_data]\n",
    "        # Add images to the database\n",
    "        for image in images:\n",
    "            try:\n",
    "                image.create()\n",
    "                print(\"Successfully added entry\")\n",
    "            except:\n",
    "                db.session.remove()\n",
    "                print(\"Error adding image: \", image.imagePath)\n"
   ]
  },
  {
   "cell_type": "markdown",
   "metadata": {},
   "source": [
    "## This is the code for the model with a function called initEasyImage that adds 2 images as Meta data as seen in the picture above."
   ]
  },
  {
   "cell_type": "code",
   "execution_count": null,
   "metadata": {},
   "outputs": [],
   "source": [
    "# Import necessary modules\n",
    "from sqlalchemy import Column, Integer, String, Text, LargeBinary\n",
    "from sqlalchemy.exc import IntegrityError\n",
    "from pathlib import Path\n",
    "from __init__ import app, db  # Import Flask app and SQLAlchemy database instance\n",
    "\n",
    "# Define the Images table in the database\n",
    "class Images(db.Model):\n",
    "    __tablename__ = \"images\"\n",
    "    id = db.Column(db.Integer, primary_key=True)\n",
    "    _xCoord = Column(Integer, nullable=False, default=250)  # Default x-coordinate\n",
    "    _yCoord = Column(Integer, nullable=False, default=250)  # Default y-coordinate\n",
    "    _difficulty = Column(Integer, nullable=False, default=0)  # Default difficulty level\n",
    "    imageData = db.Column(db.Text, nullable=True)\n",
    "    imagePath = db.Column(db.Text, nullable=True)\n",
    "\n",
    "    # Constructor to initialize an image object\n",
    "    def __init__(self, imagePath, imageData=None): \n",
    "        self.imagePath = imagePath\n",
    "        self.imageData = imageData\n",
    "\n",
    "    # Method to represent the image object as a string\n",
    "    def __repr__(self):\n",
    "        return f\"<image(id='{self.id}', imagePath='{self.imagePath}')>\"\n",
    "\n",
    "    # Method to convert image object to a dictionary\n",
    "    def to_dict(self):\n",
    "        return {\"id\": self.id, \"imagePath\": self.imagePath}\n",
    "\n",
    "    # Method to add an image to the database\n",
    "    def create(self):\n",
    "        try:\n",
    "            db.session.add(self)\n",
    "            db.session.commit()\n",
    "            return self\n",
    "        except IntegrityError:\n",
    "            db.session.remove()\n",
    "            return None\n",
    "\n",
    "    # Method to read the details of an image\n",
    "    def read(self):\n",
    "        return {\n",
    "            \"path\": self.imagePath\n",
    "        }\n",
    "\n",
    "    # Method to update the details of an image\n",
    "    def update(self, path=\"\"):\n",
    "        if path:\n",
    "            self.imagePath = path\n",
    "        db.session.commit()\n",
    "        return self\n",
    "\n",
    "    # Method to delete an image from the database\n",
    "    def delete(self):\n",
    "        db.session.delete(self)\n",
    "        db.session.commit()\n",
    "        return None\n",
    "\n",
    "# Function to initialize images in the database\n",
    "def initEasyImages():\n",
    "    with app.app_context():\n",
    "        db.create_all()  # Create all tables if they don't exist\n",
    "        # Provide paths and metadata for images\n",
    "        images_data = [\n",
    "            {\"path\": \"https://t3.ftcdn.net/jpg/03/95/29/32/360_F_395293226_A4boRgABAbfXmAmmynQHcjjIIB3MjDCj.jpg\", \n",
    "             \"_xCoord\": 250, \"_yCoord\": 250, \"_difficulty\": 0},\n",
    "            {\"path\": \"https://purepng.com/public/uploads/large/purepng.com-super-mariomariosuper-mariovideo-\n",
    "             gamefictional-characternintendoshigeru-miyamotomario-franchise-17015286383789a9am.png\", \"_xCoord\": 250, \"_yCoord\": 250, \"_difficulty\": 0}\n",
    "        ]\n",
    "        # Create image instances based on the provided data\n",
    "        images = [Images(**data) for data in images_data]\n",
    "        # Add images to the database\n",
    "        for image in images:\n",
    "            try:\n",
    "                image.create()\n",
    "                print(\"Successfully added entry\")\n",
    "            except:\n",
    "                db.session.remove()\n",
    "                print(\"Error adding image: \", image.imagePath)\n",
    "\n",
    "# Call the function to initialize images\n",
    "initEasyImages()\n"
   ]
  },
  {
   "cell_type": "markdown",
   "metadata": {},
   "source": [
    "# Lists and Dictionaries\n",
    "Blog Python API code and use of List and Dictionaries.\n",
    "\n",
    "In VSCode using Debugger, show a list as extracted from database as Python objects.\n",
    "GET request is sent to backend to search for all public designs. Backend fetches all public designs into a list in python debugger called design_return (red line). List contains all designs as python objects (red line)."
   ]
  },
  {
   "cell_type": "markdown",
   "metadata": {},
   "source": []
  },
  {
   "cell_type": "markdown",
   "metadata": {},
   "source": [
    "# API + Json"
   ]
  },
  {
   "cell_type": "markdown",
   "metadata": {},
   "source": [
    "Blog Python API code and use of Postman to request and respond with JSON.\n",
    "\n",
    "In VSCode, show Python API code definition for request and response using GET, POST, UPDATE methods. Discuss algorithmic condition used to direct request to appropriate Python method based on request method.\n",
    "Within the code shown above, the API contains several CRUDs, such as a CRUD for modifying users and one for modifying Designs.\n",
    "A resource is then added to the API under the appropriate link.\n",
    "When a request is sent to the link, the appropriate function is called according to the type of request send."
   ]
  },
  {
   "cell_type": "code",
   "execution_count": null,
   "metadata": {},
   "outputs": [],
   "source": [
    "# Add resources outside the class definition\n",
    "images_api.add_resource(ImagesAPI, '/')\n",
    "images_api.add_resource(PostImagesAPI, '/upload')"
   ]
  },
  {
   "cell_type": "markdown",
   "metadata": {},
   "source": [
    "In VSCode, show algorithmic conditions used to validate data on a POST condition.\n",
    "Algorithmic conditions ensure that inputted data is valid. The following two conditions are part of the user creation code. They ensure that the password is secure by ensuring that it is longer than a certain length, and ensure that a Name and password exists."
   ]
  },
  {
   "cell_type": "code",
   "execution_count": null,
   "metadata": {},
   "outputs": [],
   "source": [
    "# Validate name\n",
    "name = body.get('name')\n",
    "if name is None or len(name) < 2:\n",
    "    return {'message': 'Name is missing or is less than 2 characters'}, 400\n",
    "\n",
    "# Validate uid\n",
    "uid = body.get('uid')\n",
    "if uid is None or len(uid) < 2:\n",
    "    return {'message': 'User ID is missing or is less than 2 characters'}, 400"
   ]
  },
  {
   "cell_type": "markdown",
   "metadata": {},
   "source": [
    "In Postman, show URL request and Body requirements for GET, POST, and UPDATE methods.\n",
    "In Postman, show the JSON response data for 200 success conditions on GET, POST, and UPDATE methods."
   ]
  },
  {
   "cell_type": "markdown",
   "metadata": {},
   "source": [
    "## Post\n",
    "<img src=\"../../../images/post.png\" alt=\"image13\" style=\"border: 2px solid black; width: 1000px;\">\n",
    "\n",
    "## PUT\n",
    "<img src=\"../../../images/put.png\" alt=\"image13\" style=\"border: 2px solid black; width: 1000px;\">\n",
    "\n",
    "## GET\n",
    "<img src=\"../../../images/get.png\" alt=\"image13\" style=\"border: 2px solid black; width: 1000px;\">\n",
    "\n",
    "## 404\n",
    "<img src=\"../../../images/posterror.png\" alt=\"image13\" style=\"border: 2px solid black; width: 1000px;\">\n"
   ]
  },
  {
   "cell_type": "markdown",
   "metadata": {},
   "source": [
    "# frontend"
   ]
  },
  {
   "cell_type": "markdown",
   "metadata": {},
   "source": [
    "## GET"
   ]
  },
  {
   "cell_type": "code",
   "execution_count": null,
   "metadata": {
    "vscode": {
     "languageId": "html"
    }
   },
   "outputs": [],
   "source": [
    "<img src=\"../../../images/12.png\" alt=\"image12\" style=\"border: 2px solid black; width: 1000px;\">"
   ]
  },
  {
   "cell_type": "code",
   "execution_count": null,
   "metadata": {
    "vscode": {
     "languageId": "javascript"
    }
   },
   "outputs": [],
   "source": [
    "// Update the apiUrl to the correct endpoint in your backend server\n",
    "const apiUrl = 'http://127.0.0.1:8086/api/images/'; // Update this URL\n",
    "\n",
    "function downloadImage(imageUrl) {\n",
    "  // Create a temporary anchor element\n",
    "  var a = document.createElement('a');\n",
    "  a.href = imageUrl;\n",
    "  a.download = 'image.jpg';\n",
    "  document.body.appendChild(a);\n",
    "  a.click();\n",
    "  document.body.removeChild(a);\n",
    "}\n",
    "\n",
    "// Get token from cookies\n",
    "const token = getCookies()['token'];\n",
    "\n",
    "if (token) {\n",
    "  fetch(apiUrl, {\n",
    "    headers: {\n",
    "      'Authorization': `Bearer ${token}`\n",
    "    }\n",
    "  })\n",
    "  .then(response => {\n",
    "    if (response.ok) {\n",
    "      return response.json();\n",
    "    } else {\n",
    "      throw new Error('Token validation failed');\n",
    "    }\n",
    "  })\n",
    "  .then(data => {\n",
    "    const galleryContainer = $('#gallery_container');\n",
    "    const imagesPerPage = 4; // Change this value to the desired number of images per page\n",
    "\n",
    "    // Calculate the total number of pages\n",
    "    const totalPages = Math.ceil(data.length / imagesPerPage);\n",
    "\n",
    "    data.forEach((item, index) => {\n",
    "      if (index % imagesPerPage === 0) {\n",
    "        // Create a new page when needed\n",
    "        const pageNum = index / imagesPerPage + 1;\n",
    "        const pageLink = $(`<a href=\"#\" data-page=\"${pageNum}\">${pageNum}</a>`);\n",
    "        pageLink.appendTo('#pagination_container');\n",
    "      }\n",
    "\n",
    "      var card = $('<div class=\"card\"></div>'); // Create a card container\n",
    "      var image = $('<img class=\"img\">'); // Create an image element\n",
    "\n",
    "      image.attr(\"src\", \"data:image/jpeg;base64,\" + item.imageData); // Set image source\n",
    "      image.appendTo(card); // Append image to card\n",
    "\n",
    "      // Adding click event listener to each image for enlarging\n",
    "      image.on('click', function() {\n",
    "        $('#lightbox_img').attr('src', this.src);\n",
    "        $('#lightbox').fadeIn();\n",
    "        $('.overlay').fadeIn();\n",
    "        $('.download-button').fadeIn(); // Show download button\n",
    "      });\n",
    "\n",
    "      // Adding click event listener to download button\n",
    "      $('.download-button').on('click', function() {\n",
    "        downloadImage($('#lightbox_img').attr('src')); // Call downloadImage function with image source\n",
    "      });\n",
    "\n",
    "      card.appendTo(galleryContainer); // Append card to gallery container\n",
    "    });\n",
    "\n",
    "    // Add event listener for pagination\n",
    "    $('#pagination_container a').on('click', function(e) {\n",
    "      e.preventDefault();\n",
    "      const pageNum = parseInt($(this).attr('data-page'));\n",
    "      showPage(pageNum);\n",
    "    });\n",
    "\n",
    "    // Function to display the images for the selected page\n",
    "    function showPage(pageNum) {\n",
    "      galleryContainer.children('.card').hide(); // Hide all images\n",
    "      galleryContainer.children(`.card:nth-child(n+${(pageNum - 1) * imagesPerPage + 1}):nth-child(-n+${pageNum * imagesPerPage})`).show(); // Show images for the selected page\n",
    "    }\n",
    "\n",
    "    // Initially show the first page\n",
    "    showPage(1);\n",
    "  })\n",
    "  .catch(error => console.error('Error fetching images:', error));\n",
    "} else {\n",
    "  // Handle case when token is not available\n",
    "  console.log('Token not available. Please login.');\n",
    "}\n",
    "\n",
    "// Function to get cookies\n",
    "function getCookies() {\n",
    "  var cookies = {};\n",
    "  document.cookie.split(';').forEach(function(cookie) {\n",
    "    var parts = cookie.split('=');\n",
    "    cookies[parts.shift().trim()] = decodeURI(parts.join('='));\n",
    "  });\n",
    "  return cookies;\n",
    "}\n",
    "\n",
    "// Close lightbox when close button is clicked\n",
    "$('#closeLightbox').on('click', function() {\n",
    "  $('#lightbox').fadeOut();\n",
    "  $('.overlay').fadeOut();\n",
    "  $('.download-button').fadeOut(); // Hide download button\n",
    "});"
   ]
  },
  {
   "cell_type": "markdown",
   "metadata": {},
   "source": [
    "\n",
    " This JavaScript code retrieves a JWT token from cookies and uses it to authenticate a GET request to a backend server's endpoint (apiUrl) to fetch image data. Upon successful authentication, it processes the received JSON data to dynamically generate a gallery of images, displaying a specified number of images per page with pagination. Each image can be clicked to enlarge it in a lightbox, and there's an option to download the enlarged image. The pagination functionality allows users to navigate through multiple pages of images. Additionally, it includes error handling to manage cases where token validation fails or the fetch request encounters an error, and it provides a function to extract cookies and another to close the lightbox when a close button is clicked."
   ]
  },
  {
   "cell_type": "markdown",
   "metadata": {},
   "source": [
    "## Post "
   ]
  },
  {
   "cell_type": "markdown",
   "metadata": {},
   "source": [
    "<img src=\"../../../images/13.png\" alt=\"image12\" style=\"border: 2px solid black; width: 1000px;\">"
   ]
  },
  {
   "cell_type": "code",
   "execution_count": null,
   "metadata": {
    "vscode": {
     "languageId": "javascript"
    }
   },
   "outputs": [],
   "source": [
    "function handleFiles(files) {\n",
    "    // const myHeaders = new Headers();\n",
    "    // myHeaders.append(\"Content-Type\", \"application/json\");\n",
    "\n",
    "    for (let i = 0; i < files.length; i++) {\n",
    "      const file = files[i];\n",
    "      if (file.type.match('image.*')) {\n",
    "        const reader = new FileReader();\n",
    "        reader.onload = function (event) {\n",
    "          const fileName = file.name;\n",
    "          const base64String = event.target.result.split(',')[1];\n",
    "          console.log(base64String); // Log base64 representation\n",
    "          \n",
    "          // Send base64String to server\n",
    "          fetch('http://localhost:8086/api/images/upload', {\n",
    "            method: 'POST',\n",
    "            headers: {\n",
    "              \"Content-Type\": \"application/json\"\n",
    "            },\n",
    "            body: JSON.stringify({ \n",
    "              base64_string : base64String,\n",
    "              name: fileName, \n",
    "            })\n",
    "          })\n",
    "          .then(response => {\n",
    "            if (response.ok) {\n",
    "              return response.json();\n",
    "            } else {\n",
    "              throw new Error('Upload failed');\n",
    "            }\n",
    "          })\n",
    "          .then(data => {\n",
    "            // Handle successful upload\n",
    "            console.log(data);\n",
    "            alert('Image uploaded successfully');\n",
    "          })\n",
    "          .catch(error => {\n",
    "            // Handle errors\n",
    "            console.error(error);\n",
    "            alert('Upload failed. Please try again.');\n",
    "          });\n",
    "        };\n",
    "        reader.readAsDataURL(file);\n",
    "      } else {\n",
    "        alert('Please select an image file.');\n",
    "      }\n",
    "    }\n",
    "  }"
   ]
  },
  {
   "cell_type": "markdown",
   "metadata": {},
   "source": [
    " This JavaScript function handleFiles is designed to handle files selected by the user, particularly image files. When files are passed to this function, it iterates over each file using a for loop. For each file, it checks if the file type matches that of an image using the file.type.match('image.*') condition. If it's an image file, it proceeds to read the contents of the file using a FileReader. Upon successful reading of the file, it extracts the file name and converts the image data into a base64-encoded string. This base64 string, along with the file name, is then sent to the server via a POST request to the specified endpoint (http://localhost:8086/api/images/upload). The request includes the base64 string and file name in JSON format in the request body. After the upload request is made, it handles the response: if the response is successful, it logs the response data and displays an alert indicating successful upload; if there's an error in the upload process, it logs the error and displays an alert indicating upload failure. This function provides a convenient way to upload images to the server asynchronously."
   ]
  }
 ],
 "metadata": {
  "kernelspec": {
   "display_name": "Python 3",
   "language": "python",
   "name": "python3"
  },
  "language_info": {
   "name": "python",
   "version": "3.10.12"
  }
 },
 "nbformat": 4,
 "nbformat_minor": 2
}
