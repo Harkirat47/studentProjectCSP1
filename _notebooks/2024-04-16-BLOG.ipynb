{
 "cells": [
  {
   "cell_type": "markdown",
   "metadata": {},
   "source": [
    "---\n",
    "toc: true\n",
    "comments: true\n",
    "layout: post\n",
    "title: Data Structures Writeup\n",
    "description: Blog for CSP week 29\n",
    "courses: { csp: {week: 29} }\n",
    "type: hacks\n",
    "---"
   ]
  },
  {
   "cell_type": "markdown",
   "metadata": {},
   "source": [
    "# SQLite Database Table Creation:\n",
    "Using VSCode and SQLite3 Editor, create a table in your SQLite database to store your collection data.\n",
    "Define the columns in your table to represent the attributes of the collection items.\n",
    "You might create a table named collections with columns like id, name, description, etc."
   ]
  },
  {
   "cell_type": "markdown",
   "metadata": {},
   "source": [
    "# Collections\n",
    "\n",
    "# _________________________________________________________________________________________________________"
   ]
  },
  {
   "cell_type": "markdown",
   "metadata": {},
   "source": [
    "## This is the Database of Images genorated by the model \n",
    "<img src=\"../../../images/IDB.png\" alt=\"image13\" style=\"border: 2px solid black; width: 1000px;\">\n",
    "\n",
    "From VSCode model, show your unique code that was created to initialize table and create test data.\n",
    "See Code Below\n",
    "Code initializes three users, two default ones as requested by teacher, and an admin account for personal use."
   ]
  },
  {
   "cell_type": "code",
   "execution_count": null,
   "metadata": {},
   "outputs": [],
   "source": [
    "def initEasyImages():\n",
    "    with app.app_context():\n",
    "        db.create_all()  # Create all tables if they don't exist\n",
    "        # Provide paths and metadata for images\n",
    "        images_data = [\n",
    "            {\"path\": \"link.jpg\", \"_xCoord\": 250, \"_yCoord\": 250, \"_difficulty\": 0},\n",
    "            {\"path\": \"link.png\", \"_xCoord\": 250, \"_yCoord\": 250, \"_difficulty\": 0}\n",
    "        ]\n",
    "        # Create image instances based on the provided data\n",
    "        images = [Images(**data) for data in images_data]\n",
    "        # Add images to the database\n",
    "        for image in images:\n",
    "            try:\n",
    "                image.create()\n",
    "                print(\"Successfully added entry\")\n",
    "            except:\n",
    "                db.session.remove()\n",
    "                print(\"Error adding image: \", image.imagePath)\n"
   ]
  },
  {
   "cell_type": "markdown",
   "metadata": {},
   "source": [
    "## This is the code for the model with a function called initEasyImage that adds 2 images as Meta data as seen in the picture above."
   ]
  },
  {
   "cell_type": "code",
   "execution_count": null,
   "metadata": {},
   "outputs": [],
   "source": [
    "# Import necessary modules\n",
    "from sqlalchemy import Column, Integer, String, Text, LargeBinary\n",
    "from sqlalchemy.exc import IntegrityError\n",
    "from pathlib import Path\n",
    "from __init__ import app, db  # Import Flask app and SQLAlchemy database instance\n",
    "\n",
    "# Define the Images table in the database\n",
    "class Images(db.Model):\n",
    "    __tablename__ = \"images\"\n",
    "    id = db.Column(db.Integer, primary_key=True)\n",
    "    _xCoord = Column(Integer, nullable=False, default=250)  # Default x-coordinate\n",
    "    _yCoord = Column(Integer, nullable=False, default=250)  # Default y-coordinate\n",
    "    _difficulty = Column(Integer, nullable=False, default=0)  # Default difficulty level\n",
    "    imageData = db.Column(db.Text, nullable=True)\n",
    "    imagePath = db.Column(db.Text, nullable=True)\n",
    "\n",
    "    # Constructor to initialize an image object\n",
    "    def __init__(self, imagePath, imageData=None): \n",
    "        self.imagePath = imagePath\n",
    "        self.imageData = imageData\n",
    "\n",
    "    # Method to represent the image object as a string\n",
    "    def __repr__(self):\n",
    "        return f\"<image(id='{self.id}', imagePath='{self.imagePath}')>\"\n",
    "\n",
    "    # Method to convert image object to a dictionary\n",
    "    def to_dict(self):\n",
    "        return {\"id\": self.id, \"imagePath\": self.imagePath}\n",
    "\n",
    "    # Method to add an image to the database\n",
    "    def create(self):\n",
    "        try:\n",
    "            db.session.add(self)\n",
    "            db.session.commit()\n",
    "            return self\n",
    "        except IntegrityError:\n",
    "            db.session.remove()\n",
    "            return None\n",
    "\n",
    "    # Method to read the details of an image\n",
    "    def read(self):\n",
    "        return {\n",
    "            \"path\": self.imagePath\n",
    "        }\n",
    "\n",
    "    # Method to update the details of an image\n",
    "    def update(self, path=\"\"):\n",
    "        if path:\n",
    "            self.imagePath = path\n",
    "        db.session.commit()\n",
    "        return self\n",
    "\n",
    "    # Method to delete an image from the database\n",
    "    def delete(self):\n",
    "        db.session.delete(self)\n",
    "        db.session.commit()\n",
    "        return None\n",
    "\n",
    "# Function to initialize images in the database\n",
    "def initEasyImages():\n",
    "    with app.app_context():\n",
    "        db.create_all()  # Create all tables if they don't exist\n",
    "        # Provide paths and metadata for images\n",
    "        images_data = [\n",
    "            {\"path\": \"https://t3.ftcdn.net/jpg/03/95/29/32/360_F_395293226_A4boRgABAbfXmAmmynQHcjjIIB3MjDCj.jpg\", \n",
    "             \"_xCoord\": 250, \"_yCoord\": 250, \"_difficulty\": 0},\n",
    "            {\"path\": \"https://purepng.com/public/uploads/large/purepng.com-super-mariomariosuper-mariovideo-\n",
    "             gamefictional-characternintendoshigeru-miyamotomario-franchise-17015286383789a9am.png\", \"_xCoord\": 250, \"_yCoord\": 250, \"_difficulty\": 0}\n",
    "        ]\n",
    "        # Create image instances based on the provided data\n",
    "        images = [Images(**data) for data in images_data]\n",
    "        # Add images to the database\n",
    "        for image in images:\n",
    "            try:\n",
    "                image.create()\n",
    "                print(\"Successfully added entry\")\n",
    "            except:\n",
    "                db.session.remove()\n",
    "                print(\"Error adding image: \", image.imagePath)\n",
    "\n",
    "# Call the function to initialize images\n",
    "initEasyImages()\n"
   ]
  },
  {
   "cell_type": "markdown",
   "metadata": {},
   "source": [
    "# Lists and Dictionaries\n",
    "Blog Python API code and use of List and Dictionaries.\n",
    "\n",
    "In VSCode using Debugger, show a list as extracted from database as Python objects.\n",
    "GET request is sent to backend to search for all public designs. Backend fetches all public designs into a list in python debugger called design_return (red line). List contains all designs as python objects (red line)."
   ]
  },
  {
   "cell_type": "markdown",
   "metadata": {},
   "source": [
    "# list as python objects\n",
    "\n",
    "In Python, a list is a versatile and mutable collection of items. Here's what you need to know about lists as Python objects:\n",
    "\n",
    "Mutable: Lists are mutable, meaning they can be modified after they are created. You can add, remove, or change elements in a list.\n",
    "Ordered: Lists maintain the order of elements. The order in which elements are added to the list is preserved, and you can access elements by their index.\n",
    "Heterogeneous Elements: Lists can contain elements of different data types, such as integers, floats, strings, or even other lists.\n",
    "Dynamic Sizing: Lists in Python are dynamic in size, meaning they can grow or shrink as needed. You can add or remove elements without specifying the size beforehand."
   ]
  },
  {
   "cell_type": "markdown",
   "metadata": {},
   "source": [
    "<img src=\"../../../images/123.png\" alt=\"image13\" style=\"border: 2px solid black; width: 1000px;\">"
   ]
  },
  {
   "cell_type": "markdown",
   "metadata": {},
   "source": [
    "# Dictionary Keys\n",
    "\n",
    "In Python, a dictionary is a data structure that stores a collection of key-value pairs. Each key in a dictionary must be unique, and it is used to access its corresponding value. Here's a breakdown:\n",
    "\n",
    "Key: A key is an immutable (unchangeable) data type such as a string, integer, float, or tuple. It serves as an identifier or label for the corresponding value in the dictionary. Keys must be unique within a dictionary, meaning that no two keys can be the same.\n",
    "Value: A value is associated with a key in a dictionary. It can be of any data type, including strings, numbers, lists, tuples, dictionaries, or even functions.\n",
    "Key-Value Pair: A key-value pair consists of a key and its corresponding value in the dictionary. It's essentially a mapping between the key and its associated value."
   ]
  },
  {
   "cell_type": "markdown",
   "metadata": {},
   "source": [
    "<img src=\"../../../images/1232.png\" alt=\"image13\" style=\"border: 2px solid black; width: 500px;\">"
   ]
  },
  {
   "cell_type": "markdown",
   "metadata": {},
   "source": [
    "# API + Json"
   ]
  },
  {
   "cell_type": "markdown",
   "metadata": {},
   "source": [
    "Blog Python API code and use of Postman to request and respond with JSON.\n",
    "\n",
    "In VSCode, show Python API code definition for request and response using GET, POST, UPDATE methods. Discuss algorithmic condition used to direct request to appropriate Python method based on request method.\n",
    "Within the code shown above, the API contains several CRUDs, such as a CRUD for modifying users and one for modifying Designs.\n",
    "A resource is then added to the API under the appropriate link.\n",
    "When a request is sent to the link, the appropriate function is called according to the type of request send."
   ]
  },
  {
   "cell_type": "code",
   "execution_count": null,
   "metadata": {},
   "outputs": [],
   "source": [
    "# Add resources outside the class definition\n",
    "images_api.add_resource(ImagesAPI, '/')\n",
    "images_api.add_resource(PostImagesAPI, '/upload')"
   ]
  },
  {
   "cell_type": "markdown",
   "metadata": {},
   "source": [
    "In VSCode, show algorithmic conditions used to validate data on a POST condition.\n",
    "Algorithmic conditions ensure that inputted data is valid. The following two conditions are part of the user creation code. They ensure that the password is secure by ensuring that it is longer than a certain length, and ensure that a Name and password exists."
   ]
  },
  {
   "cell_type": "code",
   "execution_count": null,
   "metadata": {},
   "outputs": [],
   "source": [
    "# Validate name\n",
    "name = body.get('name')\n",
    "if name is None or len(name) < 2:\n",
    "    return {'message': 'Name is missing or is less than 2 characters'}, 400\n",
    "\n",
    "# Validate uid\n",
    "uid = body.get('uid')\n",
    "if uid is None or len(uid) < 2:\n",
    "    return {'message': 'User ID is missing or is less than 2 characters'}, 400"
   ]
  },
  {
   "cell_type": "markdown",
   "metadata": {},
   "source": [
    "In Postman, show URL request and Body requirements for GET, POST, and UPDATE methods.\n",
    "In Postman, show the JSON response data for 200 success conditions on GET, POST, and UPDATE methods."
   ]
  },
  {
   "cell_type": "markdown",
   "metadata": {},
   "source": [
    "## Post\n",
    "<img src=\"../../../images/post.png\" alt=\"image13\" style=\"border: 2px solid black; width: 1000px;\">\n",
    "\n",
    "## PUT\n",
    "<img src=\"../../../images/put.png\" alt=\"image13\" style=\"border: 2px solid black; width: 1000px;\">\n",
    "\n",
    "## GET\n",
    "<img src=\"../../../images/get.png\" alt=\"image13\" style=\"border: 2px solid black; width: 1000px;\">\n",
    "\n",
    "## 404\n",
    "<img src=\"../../../images/posterror.png\" alt=\"image13\" style=\"border: 2px solid black; width: 1000px;\">\n"
   ]
  },
  {
   "cell_type": "markdown",
   "metadata": {},
   "source": [
    "# frontend"
   ]
  },
  {
   "cell_type": "markdown",
   "metadata": {},
   "source": [
    "## GET"
   ]
  },
  {
   "cell_type": "markdown",
   "metadata": {
    "vscode": {
     "languageId": "html"
    }
   },
   "source": [
    "<img src=\"../../../images/12.png\" alt=\"image12\" style=\"border: 2px solid black; width: 1000px;\">"
   ]
  },
  {
   "cell_type": "code",
   "execution_count": null,
   "metadata": {
    "vscode": {
     "languageId": "javascript"
    }
   },
   "outputs": [],
   "source": [
    "// Update the apiUrl to the correct endpoint in your backend server\n",
    "const apiUrl = 'http://127.0.0.1:8086/api/images/'; // Update this URL\n",
    "\n",
    "function downloadImage(imageUrl) {\n",
    "  // Create a temporary anchor element\n",
    "  var a = document.createElement('a');\n",
    "  a.href = imageUrl;\n",
    "  a.download = 'image.jpg';\n",
    "  document.body.appendChild(a);\n",
    "  a.click();\n",
    "  document.body.removeChild(a);\n",
    "}\n",
    "\n",
    "// Get token from cookies\n",
    "const token = getCookies()['token'];\n",
    "\n",
    "if (token) {\n",
    "  fetch(apiUrl, {\n",
    "    headers: {\n",
    "      'Authorization': `Bearer ${token}`\n",
    "    }\n",
    "  })\n",
    "  .then(response => {\n",
    "    if (response.ok) {\n",
    "      return response.json();\n",
    "    } else {\n",
    "      throw new Error('Token validation failed');\n",
    "    }\n",
    "  })\n",
    "  .then(data => {\n",
    "    const galleryContainer = $('#gallery_container');\n",
    "    const imagesPerPage = 4; // Change this value to the desired number of images per page\n",
    "\n",
    "    // Calculate the total number of pages\n",
    "    const totalPages = Math.ceil(data.length / imagesPerPage);\n",
    "\n",
    "    data.forEach((item, index) => {\n",
    "      if (index % imagesPerPage === 0) {\n",
    "        // Create a new page when needed\n",
    "        const pageNum = index / imagesPerPage + 1;\n",
    "        const pageLink = $(`<a href=\"#\" data-page=\"${pageNum}\">${pageNum}</a>`);\n",
    "        pageLink.appendTo('#pagination_container');\n",
    "      }\n",
    "\n",
    "      var card = $('<div class=\"card\"></div>'); // Create a card container\n",
    "      var image = $('<img class=\"img\">'); // Create an image element\n",
    "\n",
    "      image.attr(\"src\", \"data:image/jpeg;base64,\" + item.imageData); // Set image source\n",
    "      image.appendTo(card); // Append image to card\n",
    "\n",
    "      // Adding click event listener to each image for enlarging\n",
    "      image.on('click', function() {\n",
    "        $('#lightbox_img').attr('src', this.src);\n",
    "        $('#lightbox').fadeIn();\n",
    "        $('.overlay').fadeIn();\n",
    "        $('.download-button').fadeIn(); // Show download button\n",
    "      });\n",
    "\n",
    "      // Adding click event listener to download button\n",
    "      $('.download-button').on('click', function() {\n",
    "        downloadImage($('#lightbox_img').attr('src')); // Call downloadImage function with image source\n",
    "      });\n",
    "\n",
    "      card.appendTo(galleryContainer); // Append card to gallery container\n",
    "    });\n",
    "\n",
    "    // Add event listener for pagination\n",
    "    $('#pagination_container a').on('click', function(e) {\n",
    "      e.preventDefault();\n",
    "      const pageNum = parseInt($(this).attr('data-page'));\n",
    "      showPage(pageNum);\n",
    "    });\n",
    "\n",
    "    // Function to display the images for the selected page\n",
    "    function showPage(pageNum) {\n",
    "      galleryContainer.children('.card').hide(); // Hide all images\n",
    "      galleryContainer.children(`.card:nth-child(n+${(pageNum - 1) * imagesPerPage + 1}):nth-child(-n+${pageNum * imagesPerPage})`).show(); // Show images for the selected page\n",
    "    }\n",
    "\n",
    "    // Initially show the first page\n",
    "    showPage(1);\n",
    "  })\n",
    "  .catch(error => console.error('Error fetching images:', error));\n",
    "} else {\n",
    "  // Handle case when token is not available\n",
    "  console.log('Token not available. Please login.');\n",
    "}\n",
    "\n",
    "// Function to get cookies\n",
    "function getCookies() {\n",
    "  var cookies = {};\n",
    "  document.cookie.split(';').forEach(function(cookie) {\n",
    "    var parts = cookie.split('=');\n",
    "    cookies[parts.shift().trim()] = decodeURI(parts.join('='));\n",
    "  });\n",
    "  return cookies;\n",
    "}\n",
    "\n",
    "// Close lightbox when close button is clicked\n",
    "$('#closeLightbox').on('click', function() {\n",
    "  $('#lightbox').fadeOut();\n",
    "  $('.overlay').fadeOut();\n",
    "  $('.download-button').fadeOut(); // Hide download button\n",
    "});"
   ]
  },
  {
   "cell_type": "markdown",
   "metadata": {},
   "source": [
    "\n",
    " This JavaScript code retrieves a JWT token from cookies and uses it to authenticate a GET request to a backend server's endpoint (apiUrl) to fetch image data. Upon successful authentication, it processes the received JSON data to dynamically generate a gallery of images, displaying a specified number of images per page with pagination. Each image can be clicked to enlarge it in a lightbox, and there's an option to download the enlarged image. The pagination functionality allows users to navigate through multiple pages of images. Additionally, it includes error handling to manage cases where token validation fails or the fetch request encounters an error, and it provides a function to extract cookies and another to close the lightbox when a close button is clicked."
   ]
  },
  {
   "cell_type": "markdown",
   "metadata": {},
   "source": [
    "## Post "
   ]
  },
  {
   "cell_type": "markdown",
   "metadata": {},
   "source": [
    "<img src=\"../../../images/13.png\" alt=\"image12\" style=\"border: 2px solid black; width: 1000px;\">"
   ]
  },
  {
   "cell_type": "code",
   "execution_count": null,
   "metadata": {
    "vscode": {
     "languageId": "javascript"
    }
   },
   "outputs": [],
   "source": [
    "function handleFiles(files) {\n",
    "    // const myHeaders = new Headers();\n",
    "    // myHeaders.append(\"Content-Type\", \"application/json\");\n",
    "\n",
    "    for (let i = 0; i < files.length; i++) {\n",
    "      const file = files[i];\n",
    "      if (file.type.match('image.*')) {\n",
    "        const reader = new FileReader();\n",
    "        reader.onload = function (event) {\n",
    "          const fileName = file.name;\n",
    "          const base64String = event.target.result.split(',')[1];\n",
    "          console.log(base64String); // Log base64 representation\n",
    "          \n",
    "          // Send base64String to server\n",
    "          fetch('http://localhost:8086/api/images/upload', {\n",
    "            method: 'POST',\n",
    "            headers: {\n",
    "              \"Content-Type\": \"application/json\"\n",
    "            },\n",
    "            body: JSON.stringify({ \n",
    "              base64_string : base64String,\n",
    "              name: fileName, \n",
    "            })\n",
    "          })\n",
    "          .then(response => {\n",
    "            if (response.ok) {\n",
    "              return response.json();\n",
    "            } else {\n",
    "              throw new Error('Upload failed');\n",
    "            }\n",
    "          })\n",
    "          .then(data => {\n",
    "            // Handle successful upload\n",
    "            console.log(data);\n",
    "            alert('Image uploaded successfully');\n",
    "          })\n",
    "          .catch(error => {\n",
    "            // Handle errors\n",
    "            console.error(error);\n",
    "            alert('Upload failed. Please try again.');\n",
    "          });\n",
    "        };\n",
    "        reader.readAsDataURL(file);\n",
    "      } else {\n",
    "        alert('Please select an image file.');\n",
    "      }\n",
    "    }\n",
    "  }"
   ]
  },
  {
   "cell_type": "markdown",
   "metadata": {},
   "source": [
    " This JavaScript function handleFiles is designed to handle files selected by the user, particularly image files. When files are passed to this function, it iterates over each file using a for loop. For each file, it checks if the file type matches that of an image using the file.type.match('image.*') condition. If it's an image file, it proceeds to read the contents of the file using a FileReader. Upon successful reading of the file, it extracts the file name and converts the image data into a base64-encoded string. This base64 string, along with the file name, is then sent to the server via a POST request to the specified endpoint (http://localhost:8086/api/images/upload). The request includes the base64 string and file name in JSON format in the request body. After the upload request is made, it handles the response: if the response is successful, it logs the response data and displays an alert indicating successful upload; if there's an error in the upload process, it logs the error and displays an alert indicating upload failure. This function provides a convenient way to upload images to the server asynchronously."
   ]
  },
  {
   "cell_type": "markdown",
   "metadata": {},
   "source": [
    "# Data Preparation and Analysis in Machine Learning\n",
    "\n",
    "## Data Preparation for Analysis:\n",
    "\n",
    "- **Data Cleaning:**\n",
    "    - Imputation: Filling missing values with a statistical measure like mean, median, or mode.\n",
    "    - Dropping: Removing rows or columns with missing values or duplicates.\n",
    "    - Outlier Detection: Identifying and handling outliers, either by removing them or transforming them.\n",
    "\n",
    "- **Encoding Categorical Variables:**\n",
    "    - Label Encoding: Assigning a unique integer to each category. May introduce ordinality.\n",
    "    - One-Hot Encoding: Converting categorical variables into binary vectors.\n",
    "\n",
    "## Algorithms for Analysis:\n",
    "\n",
    "- **Linear Regression:**\n",
    "    - Ordinary Least Squares: Minimizing the sum of squared differences between observed and predicted values.\n",
    "    - Coefficient Interpretation: Understanding the impact of feature coefficients on the target variable.\n",
    "\n",
    "- **Decision Trees:**\n",
    "    - Tree Structure: Nodes represent features, branches represent decisions, and leaves represent outcomes.\n",
    "    - Splitting Criteria: Determining the best feature and value to split the data at each node.\n",
    "    - Pruning: Techniques to prevent overfitting by simplifying the tree.\n",
    "\n",
    "## Data Preparation for Predictions:\n",
    "\n",
    "- **Feature Scaling:** Scaling numeric features to a similar range.\n",
    "- **Model Training:** Splitting data into training and testing sets for model evaluation.\n",
    "- **Prediction:** Making predictions on new, unseen data.\n"
   ]
  },
  {
   "cell_type": "markdown",
   "metadata": {},
   "source": [
    "# Example \n",
    "#  _________________________________________________________________________________________________________________________________________"
   ]
  },
  {
   "cell_type": "markdown",
   "metadata": {},
   "source": [
    "In the ML projects, there is a great deal of algorithm analysis. Think about preparing data and predictions.\n",
    "\n",
    "Show algorithms and preparation of data for analysis. This includes cleaning, encoding, and one-hot encoding.\n",
    "Below code demonstrates data cleaning in titanic ML project\n",
    "Garbage In, Garbage Out, if bad data is fed in bad data will come out therefore we need to clean data and remove bad datapoint\n",
    "Encoding: data may come in different forms, i.e. 1, male, female, we need to turn these all into numbers so that model can function, model functions only with numbers, does not work well with other data types."
   ]
  },
  {
   "cell_type": "code",
   "execution_count": null,
   "metadata": {},
   "outputs": [],
   "source": [
    "def _clean(self):\n",
    "        # Drop unnecessary columns\n",
    "        self.titanic_data.drop(['alive', 'who', 'adult_male', 'class', 'embark_town', 'deck'], axis=1, inplace=True)\n",
    "\n",
    "        # Convert boolean columns to integers\n",
    "        self.titanic_data['sex'] = self.titanic_data['sex'].apply(lambda x: 1 if x == 'male' else 0)\n",
    "        self.titanic_data['alone'] = self.titanic_data['alone'].apply(lambda x: 1 if x == True else 0)\n",
    "\n",
    "        # Drop rows with missing 'embarked' values before one-hot encoding\n",
    "        self.titanic_data.dropna(subset=['embarked'], inplace=True)\n",
    "        \n",
    "        # One-hot encode 'embarked' column\n",
    "        onehot = self.encoder.fit_transform(self.titanic_data[['embarked']]).toarray()\n",
    "        cols = ['embarked_' + str(val) for val in self.encoder.categories_[0]]\n",
    "        onehot_df = pd.DataFrame(onehot, columns=cols)\n",
    "        self.titanic_data = pd.concat([self.titanic_data, onehot_df], axis=1)\n",
    "        self.titanic_data.drop(['embarked'], axis=1, inplace=True)\n",
    "\n",
    "        # Add the one-hot encoded 'embarked' features to the features list\n",
    "        self.features.extend(cols)\n",
    "        \n",
    "        # Drop rows with missing values\n",
    "        self.titanic_data.dropna(inplace=True)\n"
   ]
  },
  {
   "cell_type": "markdown",
   "metadata": {},
   "source": [
    "Show algorithms and preparation for predictions.\n",
    "Functions below use decision tree classifier and linear regression to train model\n",
    "First function trains model, second one transforms inputted dataset to a data frame array, and then runs a prediction using the previously trained model"
   ]
  },
  {
   "cell_type": "code",
   "execution_count": null,
   "metadata": {},
   "outputs": [],
   "source": [
    "def _train(self):\n",
    "    # split the data into features and target\n",
    "    X = self.titanic_data[self.features]\n",
    "    y = self.titanic_data[self.target]\n",
    "    \n",
    "    # perform train-test split\n",
    "    self.model = LogisticRegression(max_iter=1000)\n",
    "    \n",
    "    # train the logistic regression model\n",
    "    self.model.fit(X, y)\n",
    "    \n",
    "    # train a decision tree classifier\n",
    "    self.dt = DecisionTreeClassifier()\n",
    "    self.dt.fit(X, y)\n",
    "\n",
    "def predict(self, passenger):\n",
    "    # clean the passenger data\n",
    "    \n",
    "    # Create a DataFrame with the passenger data\n",
    "    passenger_df = pd.DataFrame(passenger, index=[0])\n",
    "    \n",
    "    # Convert 'sex' column to binary (1 for male, 0 for female)\n",
    "    passenger_df['sex'] = passenger_df['sex'].apply(lambda x: 1 if x == 'male' else 0)\n",
    "    \n",
    "    # Convert 'alone' column to binary (1 if passenger is alone, 0 otherwise)\n",
    "    passenger_df['alone'] = passenger_df['alone'].apply(lambda x: 1 if x == True else 0)\n",
    "    \n",
    "    # Perform one-hot encoding for 'embarked' column\n",
    "    onehot = self.encoder.transform(passenger_df[['embarked']]).toarray()\n",
    "    cols = ['embarked_' + str(val) for val in self.encoder.categories_[0]]\n",
    "    onehot_df = pd.DataFrame(onehot, columns=cols)\n",
    "    passenger_df = pd.concat([passenger_df, onehot_df], axis=1)\n",
    "    \n",
    "    # Drop unnecessary columns ('embarked', 'name')\n",
    "    passenger_df.drop(['embarked', 'name'], axis=1, inplace=True)\n",
    "    \n",
    "    # Predict the survival probability using logistic regression model\n",
    "    die, survive = np.squeeze(self.model.predict_proba(passenger_df))\n",
    "    \n",
    "    # Return the survival probabilities as a dictionary\n",
    "    return {'die': die, 'survive': survive}\n"
   ]
  },
  {
   "cell_type": "markdown",
   "metadata": {},
   "source": [
    "### Key Concepts in Regression:\n",
    "\n",
    "1. **Dependent Variable (Outcome)**:\n",
    "   - The dependent variable (often denoted as \\(Y\\)) is the variable we want to predict or explain. It's the outcome of interest in our analysis. For example, in housing prices prediction, the price of the house might be the dependent variable.\n",
    "\n",
    "2. **Independent Variables (Predictors)**:\n",
    "   - Independent variables (often denoted as \\(X\\)) are the variables that we believe may have an influence on the dependent variable. These are the factors we use to predict or explain variations in the outcome. In the housing prices example, independent variables might include features like square footage, number of bedrooms, location, etc.\n",
    "\n",
    "3. **Regression Equation**:\n",
    "   - The regression equation represents the relationship between the independent variables and the dependent variable. It's expressed mathematically as:\n",
    "     \\[ Y = \\beta_0 + \\beta_1X_1 + \\beta_2X_2 + ... + \\beta_nX_n + \\epsilon \\]\n",
    "     - \\(Y\\) is the dependent variable.\n",
    "     - \\(X_1, X_2, ..., X_n\\) are the independent variables.\n",
    "     - \\(\\beta_0, \\beta_1, \\beta_2, ..., \\beta_n\\) are the coefficients (parameters) representing the strength and direction of the relationship between the variables.\n",
    "     - \\(\\epsilon\\) is the error term, representing the difference between the observed and predicted values.\n",
    "\n",
    "4. **Assumptions**:\n",
    "   - Regression models are based on several assumptions, including linearity, independence of errors, homoscedasticity (constant variance of errors), and normally distributed errors. Violations of these assumptions can affect the validity and reliability of the regression results.\n",
    "\n",
    "5. **Estimation of Parameters**:\n",
    "   - The goal of regression analysis is to estimate the parameters (\\(\\beta\\) coefficients) of the regression equation that best fit the data. This is typically done using techniques like Ordinary Least Squares (OLS) for linear regression, which minimizes the sum of squared differences between observed and predicted values.\n",
    "\n",
    "6. **Interpretation of Coefficients**:\n",
    "   - The coefficients (\\(\\beta\\) parameters) in the regression equation represent the change in the dependent variable for a one-unit change in the corresponding independent variable, holding other variables constant. Positive coefficients indicate a positive relationship, while negative coefficients indicate a negative relationship.\n",
    "\n",
    "7. **Prediction**:\n",
    "   - Once the regression model is fitted, it can be used to make predictions on new or unseen data. By inputting values of the independent variables into the regression equation, we can obtain predicted values for the dependent variable.\n",
    "\n",
    "8. **Model Evaluation**:\n",
    "   - Regression models need to be evaluated to assess their predictive accuracy and goodness of fit. This involves examining measures such as R-squared (for explaining the proportion of variance in the dependent variable), residual analysis (to check for the randomness of errors), and hypothesis testing on coefficients.\n",
    "\n",
    "In essence, regression analysis provides a framework for quantifying relationships between variables, making predictions, and understanding the underlying patterns in data. It's a versatile tool used in various fields such as economics, finance, social sciences, and more, to analyze and interpret complex relationships in data.\n"
   ]
  },
  {
   "cell_type": "markdown",
   "metadata": {},
   "source": [
    "\n",
    "<img src=\"https://images.spiceworks.com/wp-content/uploads/2022/04/07040339/25-4.png\" alt=\"image12\" style=\"border: 2px solid black; width: 1000px;\">"
   ]
  },
  {
   "cell_type": "markdown",
   "metadata": {},
   "source": [
    "Discuss concepts and understanding of Decision Tree analysis algorithms.\n",
    "Decision tree involves terminal nodes, or inputs\n",
    "Decision tree has decision nodes that make decisions based upon terminal nodes and inputs. These nodes make another output based upon inputs and send it out. All nodes eventually converge into a root node that has final decision of tree"
   ]
  },
  {
   "cell_type": "markdown",
   "metadata": {},
   "source": [
    "<img src=\"https://www.cs.cmu.edu/~bhiksha/courses/10-601/decisiontrees/DT.png\" alt=\"image12\" style=\"border: 2px solid black; width: 1000px;\">"
   ]
  },
  {
   "cell_type": "markdown",
   "metadata": {},
   "source": [
    "### Key Concepts in Decision Trees:\n",
    "\n",
    "1. **Decision Tree Structure**:\n",
    "   - A decision tree is a hierarchical structure consisting of nodes that represent decision points and branches that represent possible outcomes or paths. At each decision node, a decision is made based on the value of a particular feature.\n",
    "\n",
    "2. **Root Node**:\n",
    "   - The top node of the decision tree is called the root node. It represents the entire dataset and is divided into two or more child nodes based on the value of a selected feature.\n",
    "\n",
    "3. **Decision Nodes**:\n",
    "   - Decision nodes are internal nodes of the tree where decisions are made based on the values of features. Each decision node represents a specific feature and a corresponding decision rule.\n",
    "\n",
    "4. **Leaf Nodes**:\n",
    "   - Leaf nodes are terminal nodes of the tree where the final outcome or prediction is made. Each leaf node represents a class label or a numerical value (depending on the type of problem) assigned to the observation that reaches that node.\n",
    "\n",
    "5. **Splitting Criteria**:\n",
    "   - Splitting criteria determine how the decision tree algorithm chooses the best feature to split the data at each decision node. Common splitting criteria include Gini impurity, entropy, and information gain, which aim to maximize the homogeneity (or purity) of the resulting subsets.\n",
    "\n",
    "6. **Pruning**:\n",
    "   - Pruning is a technique used to prevent overfitting in decision trees by removing nodes that do not significantly improve the performance of the tree on unseen data. It helps simplify the tree structure and improve its generalization ability.\n",
    "\n",
    "7. **Tree Depth**:\n",
    "   - The depth of a decision tree refers to the length of the longest path from the root node to a leaf node. Deeper trees may capture more complex patterns in the data but are also more prone to overfitting.\n",
    "\n",
    "8. **Classification vs. Regression Trees**:\n",
    "   - Decision trees can be used for both classification and regression tasks. In classification trees, the leaf nodes represent class labels, while in regression trees, the leaf nodes represent numerical values.\n",
    "\n",
    "9. **Interpretability**:\n",
    "   - One of the key advantages of decision trees is their interpretability. The decision rules learned by the tree can be easily understood and visualized, making them useful for explaining and communicating insights from the data.\n",
    "\n",
    "10. **Ensemble Methods**:\n",
    "    - Decision trees are often used as building blocks in ensemble learning methods such as Random Forest and Gradient Boosting, where multiple decision trees are combined to improve predictive performance.\n",
    "\n",
    "Decision trees provide a flexible and intuitive approach to predictive modeling, suitable for a wide range of applications in fields such as machine learning, data mining, and pattern recognition.\n"
   ]
  }
 ],
 "metadata": {
  "kernelspec": {
   "display_name": "Python 3",
   "language": "python",
   "name": "python3"
  },
  "language_info": {
   "codemirror_mode": {
    "name": "ipython",
    "version": 3
   },
   "file_extension": ".py",
   "mimetype": "text/x-python",
   "name": "python",
   "nbconvert_exporter": "python",
   "pygments_lexer": "ipython3",
   "version": "3.10.12"
  }
 },
 "nbformat": 4,
 "nbformat_minor": 2
}
