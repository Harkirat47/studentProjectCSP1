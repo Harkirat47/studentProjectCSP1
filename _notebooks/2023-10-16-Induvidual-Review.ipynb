{
 "cells": [
  {
   "cell_type": "markdown",
   "metadata": {},
   "source": [
    "---\n",
    "toc: True\n",
    "comments: True\n",
    "layout: post\n",
    "title: CSP plans\n",
    "type: tangibles\n",
    "courses: {'csp': {'week': 8}}\n",
    "---"
   ]
  },
  {
   "cell_type": "markdown",
   "metadata": {},
   "source": [
    "# ISSUES\n",
    "\n",
    "LINKS\n",
    "[Issue 1, IMG links in Meta](https://github.com/KinetekEnergy/ByteBuffoons-Pages/issues/11) All of the links that are in the meta model of backend need to be real cookies (low priority)\n",
    "\n",
    "[Issue 2, Add post request](https://github.com/KinetekEnergy/ByteBuffoons-Pages/issues/21) use post requests to add votable cookies (Pending)\n",
    "\n",
    "[Issue 3, we need data](https://github.com/KinetekEnergy/ByteBuffoons-Pages/issues/15) Intergration, get function, made parseable cards (done)\n",
    "\n",
    "[Issue 4, decrese API value ](https://github.com/KinetekEnergy/ByteBuffoons-Pages/issues/9) Update stock, exremely important for an ecomerce website (done)"
   ]
  },
  {
   "cell_type": "markdown",
   "metadata": {},
   "source": [
    "# WEEK 8\n",
    "\n",
    "Started to experiment with Blueprint and then I tried to copy the jokes API and make it as my API by changing a few things.\n"
   ]
  },
  {
   "cell_type": "code",
   "execution_count": null,
   "metadata": {},
   "outputs": [],
   "source": [
    "\n",
    "import random\n",
    "\n",
    "cookie_data = {\n",
    "    \"cookies\": [],\n",
    "    \"list\": [\n",
    "        \"Chocolate Chip\", \"Oatmeal Raisin\", \"Snickerdoodle\", \"Peanut Butter\", \"Sugar Cookie\"\n",
    "    ]\n",
    "}\n",
    "\n",
    "# Initialize cookies\n",
    "def initCookies():\n",
    "    # Setup cookies into a dictionary with type, ingredients, price, and stock\n",
    "    for item_type in cookie_data[\"list\"]:\n",
    "        cookie_data[\"cookies\"].append({\"type\": item_type, \"ingredients\": [], \"price\": 0, \"stock\": 0})\n",
    "    # Prime some stock levels\n",
    "    for i in range(len(cookie_data[\"list\"])):\n",
    "        cookie_data[\"cookies\"][i][\"stock\"] = random.randint(50, 100)\n",
    "\n",
    "# Return all cookies from cookie_data\n",
    "def getCookies():\n",
    "    return cookie_data[\"cookies\"]\n",
    "\n",
    "# Cookie getter\n",
    "def getCookie(cookie_type):\n",
    "    for cookie in cookie_data[\"cookies\"]:\n",
    "        if cookie['type'] == cookie_type:\n",
    "            return cookie\n",
    "\n",
    "# Return random cookie from cookie_data\n",
    "def getRandomCookie():\n",
    "    return random.choice(cookie_data[\"cookies\"])\n",
    "\n",
    "# Buy a cookie and update stock\n",
    "def buyCookie(cookie_type):\n",
    "    cookie = getCookie(cookie_type)\n",
    "    if cookie and cookie['stock'] > 0:\n",
    "        cookie['stock'] -= 1\n",
    "        return {\"message\": f\"Purchased one {cookie_type} cookie.\"}\n",
    "    elif cookie:\n",
    "        return {\"message\": f\"Sorry, {cookie_type} cookies are out of stock.\"}, 400\n",
    "    else:\n",
    "        return {\"message\": \"Cookie type not found.\"}, 404\n",
    "\n",
    "# Pretty Print cookie\n",
    "def printCookie(cookie):\n",
    "    print(\"Type:\", cookie['type'])\n",
    "    print(\"Ingredients:\", ', '.join(cookie['ingredients']))\n",
    "    print(\"Price:\", cookie['price'])\n",
    "    print(\"Stock:\", cookie['stock'])\n",
    "\n",
    "# Number of cookies\n",
    "def countCookies():\n",
    "    return len(cookie_data[\"cookies\"])\n",
    "\n",
    "# Test Cookie Model\n",
    "if __name__ == \"__main__\":\n",
    "    initCookies()  # initialize cookies\n",
    "\n",
    "    # Random cookie\n",
    "    random_cookie = getRandomCookie()\n",
    "    print(\"Random cookie:\")\n",
    "    printCookie(random_cookie)\n",
    "\n",
    "    # Buy a cookie\n",
    "    cookie_type = \"Chocolate Chip\"  # Change to the type you want to buy\n",
    "    buy_result = buyCookie(cookie_type)\n",
    "    print(buy_result)\n",
    "\n",
    "    # Count of Cookies\n",
    "    print(\"Cookies Count:\", countCookies())"
   ]
  },
  {
   "cell_type": "markdown",
   "metadata": {},
   "source": [
    "then once this inevitablly failed, I tested extensively on postman untill I decided to try and change my Meta data model into a database system. This had many issues though, I had to initiate my meta data not in main, rather than the model file. I also learned a valuable lesson in namng files as All of my files were named Cookie, therfore it was hard to tell what i was calling in my main.\n",
    "\n",
    "Updated code for model and main \n",
    "[https://github.com/Harkirat47/ByteBuFOOOns/commit/c83eee0b248b9574a093035b6e421872e77ed277 ](https://github.com/Harkirat47/ByteBuFOOOns/commit/c83eee0b248b9574a093035b6e421872e77ed277 )\n",
    "\n",
    "Port Changes\n",
    "[https://github.com/Harkirat47/ByteBuFOOOns/commit/eeca1cefea7abd23d74b4c3bf22209d68453a306](https://github.com/Harkirat47/ByteBuFOOOns/commit/eeca1cefea7abd23d74b4c3bf22209d68453a306)\n",
    "\n",
    "\n",
    "Fixing Ports\n",
    "[https://github.com/Harkirat47/ByteBuFOOOns/commit/1bfc7a87d04d31845d14e11444860e56815a99cc](https://github.com/Harkirat47/ByteBuFOOOns/commit/1bfc7a87d04d31845d14e11444860e56815a99cc)\n",
    "\n",
    "This is current edition with Jokes intergration\n",
    "[https://github.com/Harkirat47/ByteBuFOOOns/commit/5534790ed61c52f470e144f15dcd6526fded21f2](https://github.com/Harkirat47/ByteBuFOOOns/commit/5534790ed61c52f470e144f15dcd6526fded21f2)"
   ]
  },
  {
   "cell_type": "markdown",
   "metadata": {},
   "source": [
    "# WEEK 9\n",
    "\n",
    "THINGS GO TERRIBLY WRONG"
   ]
  },
  {
   "cell_type": "markdown",
   "metadata": {},
   "source": [
    "One of my teamates thought they were helping and somehow moved all of the files from their paths, this took me over 3 hours to fix until i finnally figured out the damage\n",
    "This was partly due to my lack of teaching my teamates backend, and expecting them to know how to do things"
   ]
  },
  {
   "cell_type": "markdown",
   "metadata": {},
   "source": [
    "It's time to get GET and POST to actually work. Last week was mainly about running the Docker and getting the model running. One problem, however, was that my API would only work on my localhost provided I ran the following in a terminal code cell:\n",
    "\n",
    "python\n",
    "Copy code\n",
    "python main.py\n",
    "CORS was a huge issue this week as well. Luckily, in this commit, link this commit, basically, all I really had to do was read the docs for this one and copy the CORS code from there.\n",
    "\n",
    "Another thing I did this week was deploy to the AWS server for the first time. Not set up, rather actually used docker-compose up --d build on the Nighthawk server."
   ]
  },
  {
   "cell_type": "markdown",
   "metadata": {},
   "source": [
    "## UPDATE: EVERYTHING BROKE due to read-write permissions."
   ]
  },
  {
   "cell_type": "markdown",
   "metadata": {},
   "source": [
    "Baisically, my meta data would just apend onto my previos data when i restarted the server. One way to fix this was to Drop the sqlite table all-together. this plan did not work due to read write permissions wich I cannot Change, Work on this later, get post to work Right now"
   ]
  },
  {
   "cell_type": "markdown",
   "metadata": {},
   "source": [
    "### POST WORKS\n",
    "\n",
    "- due to URL problems prevelent in the Cookie.py in API folder\n",
    "\n",
    "- as you can see, cookies 1 - 8 are meta data, many of this is test and post data, but you can see how they keep repeting"
   ]
  },
  {
   "cell_type": "markdown",
   "metadata": {},
   "source": [
    "![Another Image]({{site.baseurl}}/images/CookieMMMMM.png)"
   ]
  },
  {
   "cell_type": "markdown",
   "metadata": {},
   "source": [
    "### Code for post \n",
    "```python\n",
    " def post(self):\n",
    "        parser = reqparse.RequestParser()\n",
    "        parser.add_argument(\"Cookie_name\", required=True, type=str)\n",
    "        parser.add_argument(\"image\", required=True, type=str)\n",
    "        parser.add_argument(\"stock\", required=True, type=str)  # Adjust the type to int\n",
    "        parser.add_argument(\"price\", required=True, type=str)  # Adjust the type to float\n",
    "        args = parser.parse_args()\n",
    "        cookie = Cookie(args[\"Cookie_name\"], args[\"image\"], args[\"stock\"], args[\"price\"])\n",
    "\n",
    "```\n",
    "Baisically I did not know how to parse anything, this is something that I learned through lots of google after CHATGPT failed"
   ]
  },
  {
   "cell_type": "markdown",
   "metadata": {},
   "source": [
    "### Commits for this week\n",
    "\n",
    "Post request intergration with main\n",
    "[https://github.com/Harkirat47/ByteBuFOOOns/commit/a7dea271cc6355b45c09456db627d3ce47bd997e ](https://github.com/Harkirat47/ByteBuFOOOns/commit/a7dea271cc6355b45c09456db627d3ce47bd997e )\n",
    "\n",
    "\n",
    "Teamate Mishap \n",
    "[https://github.com/Harkirat47/ByteBuFOOOns/commit/5a534389c04e6a5dda3663d8a9a3bd683c203c38](https://github.com/Harkirat47/ByteBuFOOOns/commit/5a534389c04e6a5dda3663d8a9a3bd683c203c38)\n",
    "\n",
    "CSV Fixing(this was an expiriment that I tried to do but inevitably did not do as it was uneeded)\n",
    "[Issue 2, Add post request](https://github.com/Harkirat47/ByteBuFOOOns/commit/40dcd38afe9109d0da2eec8939290c306fca312e)\n",
    "\n",
    "Post Request fixing finnaly done with minor issues\n",
    "[https://github.com/Harkirat47/ByteBuFOOOns/commit/79ecdee301c50f949f264834112f280496cf13d0](https://github.com/Harkirat47/ByteBuFOOOns/commit/79ecdee301c50f949f264834112f280496cf13d0)\n",
    "\n",
    "Formatting and also final Post fixes\n",
    "[https://github.com/Harkirat47/ByteBuFOOOns/commit/604322d11a39629aeb784758ff91a5c4ecf2949b](https://github.com/Harkirat47/ByteBuFOOOns/commit/604322d11a39629aeb784758ff91a5c4ecf2949b)\n"
   ]
  },
  {
   "cell_type": "markdown",
   "metadata": {},
   "source": [
    "# WEEK 10"
   ]
  },
  {
   "cell_type": "markdown",
   "metadata": {},
   "source": [
    "#### Intergration Week"
   ]
  },
  {
   "cell_type": "markdown",
   "metadata": {},
   "source": [
    " ##### Things to Acheive this week\n",
    "\n",
    " - GET METHOD FETCHED\n",
    "\n",
    " - HELP FRONTEND WITH DYNAMIC CARDS\n",
    " "
   ]
  },
  {
   "cell_type": "markdown",
   "metadata": {},
   "source": [
    "Update, Huge issue, the data cannot be called, yet the api is on the AWS server, figure out how to fetch"
   ]
  },
  {
   "cell_type": "markdown",
   "metadata": {},
   "source": [
    "### SIDE QUEST\n",
    "\n",
    "SSH to the AWS server \n",
    "\n",
    "FIX THE NGINX BECAUSE PPL KEEP TURNING OFF THE SERVER Credit:WILLIAM CHENG, I figured out how to get to the SSH, William figured out how to fix NGINx\n",
    "\n",
    "![Another Image]({{site.baseurl}}/images/LESGOOOOO.png)"
   ]
  },
  {
   "cell_type": "markdown",
   "metadata": {},
   "source": [
    "### Back to the main parts\n",
    "\n",
    "UPDATE: CHATGPT has helped fixing our fetch code"
   ]
  },
  {
   "cell_type": "code",
   "execution_count": null,
   "metadata": {
    "vscode": {
     "languageId": "javascript"
    }
   },
   "outputs": [],
   "source": [
    "fetch(apiUrl)\n",
    ".then(response => response.json()) // Parse the JSON response\n",
    ".then(data => {\n",
    "    // Organize the data into a dictionary\n",
    "    const organizedData = {\n",
    "        Cookie_api: {\n",
    "            url_prefix: '/api/Cookie',\n",
    "            CookieAPI: {\n",
    "                get: {\n",
    "                    description: 'Retrieve all cookies from the database',\n",
    "                    url: '/api/Cookie',\n",
    "                    method: 'GET',\n",
    "                    data: data, // Include the retrieved data here\n",
    "                },\n",
    "            },\n",
    "        },\n",
    "        CookieListAPI: {\n",
    "            CookieListAPI: {\n",
    "                get: {\n",
    "                    description: 'Retrieve all cookies from the database',\n",
    "                    url: '/api/Cookie',\n",
    "                    method: 'GET',\n",
    "                    data: data, // Include the retrieved data here\n",
    "                },\n",
    "            },\n",
    "        },\n",
    "        };\n",
    "\n",
    "// Now, you have the organized data in the \"organizedData\" dictionary\n",
    "})\n",
    ".catch(error => {\n",
    "console.error('Error fetching data:', error);\n",
    "});"
   ]
  },
  {
   "cell_type": "markdown",
   "metadata": {},
   "source": [
    "### now we make dynamic cards\n",
    "\n",
    "first we have to get the data\n",
    "\n",
    "next we have to append it to some cards"
   ]
  },
  {
   "cell_type": "markdown",
   "metadata": {},
   "source": [
    "More testing,"
   ]
  },
  {
   "cell_type": "code",
   "execution_count": null,
   "metadata": {
    "vscode": {
     "languageId": "javascript"
    }
   },
   "outputs": [],
   "source": [
    "console.log(organizedData); //data[id].Cookie_name, image whatever u may need,"
   ]
  },
  {
   "cell_type": "markdown",
   "metadata": {},
   "source": [
    "![Another Image]({{site.baseurl}}/images/data.png)"
   ]
  },
  {
   "cell_type": "markdown",
   "metadata": {},
   "source": [
    "so the path is therfore .Cookie_api.CookieAPI.get.data"
   ]
  },
  {
   "cell_type": "markdown",
   "metadata": {},
   "source": [
    "Update this works, now to sudo code the parser for adding custom cards"
   ]
  },
  {
   "cell_type": "markdown",
   "metadata": {},
   "source": [
    "For each item in Data\n",
    "    Create a new card element\n",
    "    Set the card's class to \"card\"\n",
    "\n",
    "    Create a new image element\n",
    "    Set the image's source (src) to the item's image property\n",
    "    Set the image's alt text to \"cookie\"\n",
    "\n",
    "    Create a new cardContent element\n",
    "    Set the cardContent's class to \"card-content\"\n",
    "\n",
    "    Create a new title element\n",
    "    Set the title's class to \"title\"\n",
    "    Set the title's text content to \"item.Cookie_name - $item.price\"\n",
    "\n",
    "    Create a new whitespace1 element\n",
    "    Set whitespace1's class to \"title\"\n",
    "    Set whitespace1's text content to an empty string\n",
    "\n",
    "    Create a new chip element\n",
    "    Set the chip's class to \"chip\"\n",
    "    Set the chip's text content to \"Add to Cart\"\n",
    "    Add a click event listener to the chip\n",
    "\n",
    "    Create a new whitespace2 element\n",
    "    Set whitespace2's class to \"title\"\n",
    "    Set whitespace2's text content to an empty string\n",
    "\n",
    "    Append the title to cardContent\n",
    "    Append whitespace1 to cardContent\n",
    "    Append chip to cardContent\n",
    "    Append whitespace2 to cardContent\n",
    "\n",
    "    Append the image to the card\n",
    "    Append cardContent to the card\n",
    "\n",
    "    Append the card to the catalogGrid\n"
   ]
  },
  {
   "cell_type": "markdown",
   "metadata": {},
   "source": [
    "### This is the working code "
   ]
  },
  {
   "cell_type": "code",
   "execution_count": null,
   "metadata": {
    "vscode": {
     "languageId": "javascript"
    }
   },
   "outputs": [],
   "source": [
    "Data.forEach((item) => {\n",
    "    const card = document.createElement(\"div\")\n",
    "    card.className = \"card\";\n",
    "\n",
    "    const image = document.createElement(\"img\");\n",
    "    image.src = item.image;\n",
    "    image.alt = \"cookie\";\n",
    "\n",
    "    const cardContent = document.createElement(\"div\")\n",
    "    cardContent.className = \"card-content\";\n",
    "\n",
    "    const title = document.createElement(\"p\");\n",
    "    title.className = \"title\";\n",
    "    title.textContent = `${item.Cookie_name} - $${item.price}`\n",
    "\n",
    "\n",
    "    // new line\n",
    "    const whitespace1 = document.createElement(\"p\");\n",
    "    whitespace1.className = \"title\";\n",
    "    whitespace1.textContent = ``\n",
    "\n",
    "    const chip = document.createElement(\"a\");\n",
    "    chip.className = \"chip\";\n",
    "    chip.textContent = \"Add to Cart\";\n",
    "    chip.addEventListener(\"click\", () => {\n",
    "        // <a href=\"#\" class=\"chip snipcart-add-item\" data-item-id=\"Chocolate Chip\" data-item-price=\"3.99\"\n",
    "        //     data-item-image=\"https://www.cookingclassy.com/wp-content/uploads/2014/06/chocolate-chip-cookie-16.jpg\"\n",
    "        //     data-item-name=\"Chocolate Chip\">Add to cart\n",
    "        // </a>\n",
    "    });\n",
    "\n",
    "    // new line\n",
    "    const whitespace2 = document.createElement(\"p\");\n",
    "    whitespace2.className = \"title\";\n",
    "    whitespace2.textContent = ``\n",
    "\n",
    "\n",
    "    cardContent.appendChild(title);\n",
    "    cardContent.appendChild(whitespace1)\n",
    "    cardContent.appendChild(chip);\n",
    "    cardContent.appendChild(whitespace2)\n",
    "\n",
    "    card.appendChild(image);\n",
    "    card.appendChild(cardContent);\n",
    "\n",
    "    catalogGrid.appendChild(card);"
   ]
  },
  {
   "cell_type": "markdown",
   "metadata": {},
   "source": [
    "Commits for this Week That are Important"
   ]
  },
  {
   "cell_type": "markdown",
   "metadata": {},
   "source": [
    "Testing data paths\n",
    "[https://github.com/KinetekEnergy/ByteBuffoons-Pages/commit/8fb375d9533ea06ec224720c09799e66e8a8d9aa](https://github.com/KinetekEnergy/ByteBuffoons-Pages/commit/8fb375d9533ea06ec224720c09799e66e8a8d9aa)\n",
    "\n",
    "Starting the fetch system\n",
    "[https://github.com/KinetekEnergy/ByteBuffoons-Pages/commit/3ed77be45fedbebafb99a813cf6dde5348c3d274](https://github.com/KinetekEnergy/ByteBuffoons-Pages/commit/3ed77be45fedbebafb99a813cf6dde5348c3d274)\n",
    "\n",
    "\n",
    "Apending new cards to the code\n",
    "[https://github.com/KinetekEnergy/ByteBuffoons-Pages/commit/4aa939a7fbfe37318687ec05586536aa1f9b89c1](https://github.com/KinetekEnergy/ByteBuffoons-Pages/commit/4aa939a7fbfe37318687ec05586536aa1f9b89c1)\n",
    "\n"
   ]
  },
  {
   "cell_type": "markdown",
   "metadata": {},
   "source": [
    "Honerable mentions:\n",
    "\n",
    "Fixing exposed Data ports\n",
    "[https://github.com/Harkirat47/ByteBuFOOOns/commit/dc4f9bdb07be7bd055e09af8d14303e0d10e52fa](https://github.com/Harkirat47/ByteBuFOOOns/commit/dc4f9bdb07be7bd055e09af8d14303e0d10e52fa)\n"
   ]
  }
 ],
 "metadata": {
  "kernelspec": {
   "display_name": "Python 3",
   "language": "python",
   "name": "python3"
  },
  "language_info": {
   "codemirror_mode": {
    "name": "ipython",
    "version": 3
   },
   "file_extension": ".py",
   "mimetype": "text/x-python",
   "name": "python",
   "nbconvert_exporter": "python",
   "pygments_lexer": "ipython3",
   "version": "3.10.12"
  }
 },
 "nbformat": 4,
 "nbformat_minor": 2
}
