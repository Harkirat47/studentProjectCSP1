{
 "cells": [
  {
   "attachments": {},
   "cell_type": "markdown",
   "metadata": {},
   "source": [
    "---\n",
    "# this is YAML front matter\n",
    "layout: post\n",
    "title: Python quiz\n",
    "description: These examples show the basic language structures and constructs of Python using input and output (print) commands.\n",
    "courses: { csp: {week: 1} }\n",
    "categories: [C4.0]\n",
    "type: hacks\n",
    "---"
   ]
  },
  {
   "attachments": {},
   "cell_type": "markdown",
   "metadata": {},
   "source": [
    "### Me and Anthoy's quiz\n",
    "\n",
    "    This is a hack, We worked hard on this TRUST"
   ]
  },
  {
   "cell_type": "code",
   "execution_count": 1,
   "metadata": {},
   "outputs": [
    {
     "name": "stdout",
     "output_type": "stream",
     "text": [
      "Question 1: What is an if function\n",
      "A) a queston\n",
      "B) I cant code :(\n",
      "C) a condition\n",
      "D) trick queston\n",
      "Wrong. The correct answer is C.\n",
      "\n",
      "Question 2: What does i mean in a loop\n",
      "A) Inception \n",
      "B) Index\n",
      "C) just an uneeded variable\n",
      "D) Undefined\n",
      "Wrong. The correct answer is B.\n",
      "\n",
      "Question 3: what is the meaning of life\n",
      "A) CSP\n",
      "B) Code Code Code\n",
      "C) Nothingness \n",
      "D) Death \n",
      "Wrong. The correct answer is B.\n",
      "\n",
      "You got 0 out of 3 questions correct.\n"
     ]
    }
   ],
   "source": [
    "# Define a list of questions, answer choices, and correct answers\n",
    "questions = [\n",
    "    {\n",
    "        \"question\": \"What is an if function\",\n",
    "        \"choices\": [\"A) a queston\", \"B) I cant code :(\", \"C) a condition\", \"D) trick queston\"],\n",
    "        \"correct_answer\": \"C\"\n",
    "    },\n",
    "    {\n",
    "        \"question\": \"What does i mean in a loop\",\n",
    "        \"choices\": [\"A) Inception \", \"B) Index\", \"C) just an uneeded variable\", \"D) Undefined\"],\n",
    "        \"correct_answer\": \"B\"\n",
    "    },\n",
    "    {\n",
    "        \"question\": \"what is the meaning of life\",\n",
    "        \"choices\": [\"A) CSP\", \"B) Code Code Code\", \"C) Nothingness \", \"D) Death \"],\n",
    "        \"correct_answer\": \"B\"\n",
    "    }\n",
    "]\n",
    "\n",
    "# Initialize a variable to keep track of the score\n",
    "score = 0\n",
    "\n",
    "# Iterate through the questions\n",
    "for i, question in enumerate(questions, 1):\n",
    "    print(f\"Question {i}: {question['question']}\")\n",
    "    for choice in question['choices']:\n",
    "        print(choice)\n",
    "    \n",
    "    # Get the user's answer\n",
    "    user_answer = input(\"Enter your answer (A/B/C/D): \").upper()\n",
    "\n",
    "    # Check if the user's answer is correct\n",
    "    if user_answer == question['correct_answer']:\n",
    "        print(\"Correct!\\n\")\n",
    "        score += 1\n",
    "    else:\n",
    "        print(f\"Wrong. The correct answer is {question['correct_answer']}.\\n\")\n",
    "\n",
    "# Display the final score\n",
    "print(f\"You got {score} out of {len(questions)} questions correct.\")\n"
   ]
  }
 ],
 "metadata": {
  "kernelspec": {
   "display_name": "Python 3 (ipykernel)",
   "language": "python",
   "name": "python3"
  },
  "vscode": {
   "interpreter": {
    "hash": "916dbcbb3f70747c44a77c7bcd40155683ae19c65e1c03b4aa3499c5328201f1"
   }
  }
 },
 "nbformat": 4,
 "nbformat_minor": 2
}
