{
 "cells": [
  {
   "cell_type": "markdown",
   "metadata": {},
   "source": [
    "---\n",
    "toc: true\n",
    "comments: true\n",
    "layout: post\n",
    "title: ERRORS that can be debugged\n",
    "description: Blog for CSP week 19\n",
    "courses: { csp: {week: 22} }\n",
    "type: hacks\n",
    "---"
   ]
  },
  {
   "cell_type": "markdown",
   "metadata": {},
   "source": [
    "\n",
    "<img src=\"../../../images/2.png\" alt=\"image2\">\n",
    "\n",
    "### This is another point of faliure where the image may or may not be added to database after being not only converted, base 64 to string, but also updating ID\n",
    "\n",
    "\n",
    "<img src=\"../../../images/4.png\" alt=\"image4\">\n",
    "\n",
    "### ./miagrate to update Harki 123 Harki\n",
    "\n",
    "\n",
    "<img src=\"../../../images/3.png\" alt=\"image3\">\n",
    "\n",
    "### SUCCESS in backend, A bunch of Conversions that allow for user specific data\n",
    "\n",
    "\n",
    "\n",
    "<img src=\"../../../images/6.png\" alt=\"image6\">\n",
    "\n",
    "### Console logging all of the images once uploaded to see if they are properly becoming a string\n",
    "\n",
    "\n",
    "<img src=\"../../../images/8.png\" alt=\"image8\">\n",
    "\n",
    "### AN alert if alert fails or not this is another way for me to know at a DIFFERENT point if uploading the string gives a non cors related error\n",
    "\n",
    "\n",
    "\n",
    "<img src=\"../../../images/11.png\" alt=\"image11\">\n",
    "\n",
    "### The table does not work, must miagrate.sh\n",
    "\n",
    "\n",
    "<img src=\"../../../images/12.png\" alt=\"image12\">\n",
    "\n",
    "### This is the failed get request, Tokens are broken\n",
    "\n",
    "\n",
    "<img src=\"../../../images/13.png\" alt=\"image13\">\n",
    "\n",
    "### the base 64 stringafy once upload, also there is the ALERT THAT SEES IF THE IMAGE HAS UPLOADED\n",
    "\n",
    "\n",
    "<img src=\"../../../images/14.png\" alt=\"image14\">\n",
    "\n",
    "### JWT data does not work, the token does not create on authenticate\n",
    "\n",
    "\n",
    "<img src=\"../../../images/15.png\" alt=\"image15\">\n",
    "\n",
    "### CHANGING PORTS for the debugging project, you can see it work in console"
   ]
  }
 ],
 "metadata": {
  "language_info": {
   "name": "python"
  }
 },
 "nbformat": 4,
 "nbformat_minor": 2
}
